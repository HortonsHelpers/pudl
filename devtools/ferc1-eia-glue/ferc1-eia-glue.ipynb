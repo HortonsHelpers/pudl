{
 "cells": [
  {
   "cell_type": "markdown",
   "metadata": {},
   "source": [
    "# Integrating New FERC Form 1 and EIA Data Releases\n",
    "This notebook generates lists of new plants and utilities that need to be assigned PUDL IDs. It helps with the process of integrating new data each fall when the agencies make their new annual release for the previous year.\n",
    "\n",
    "## Prerequisites:\n",
    "* All available EIA 860/923 years must be loaded into your PUDL DB.\n",
    "* This includes the **new** year of data to be integrated.\n",
    "* This means the spreadsheet tab maps need to be updated.\n",
    "* Some minor EIA data wrangling may also be required.\n",
    "* All years of FERC Form 1 data must be loaded into your FERC 1 DB.\n",
    "* This includes the **new** year of data to be integrated.\n",
    "\n",
    "## Outputs:\n",
    "* `unmapped_utilities_ferc1.csv`: Respondent IDs and respondent names of utilities which appear in the FERC Form 1 DB, but which do **not** appear in the PUDL ID mapping spreadsheet.\n",
    "* `unmapped_plants_ferc1.csv`: Plant names, respondent names, and respondent IDs associated with plants that appear in the FERC Form 1 DB, but which do **not** appear in the PUDL ID Mapping spreadsheet.\n",
    "* `unmapped_utilities_eia.csv`: EIA Utility IDs and names of utilities which appear in the PUDL DB, but which do **not** appear in the PUDL ID mapping spreadsheet.\n",
    "* `unmapped_plants_eia.csv`: EIA Plant IDs and Plant Names of plants which appear in the PUDL DB, but which do **not** appear in the PUDL ID mapping spreadsheet.  The Utility ID and Name for the primary plant operator, as well as the aggregate plant capacity and the state the plant is located in are also proved to aid in PUDL ID mapping.\n",
    "* `lost_utilities_eia.csv`: The Utility IDs and Names of utilities which appear in the PUDL ID mapping spreadsheet but which do **not** appear in the PUDL DB. Likely because EIA revised previous years of data, and removed those utilities, after we had mapped them.\n",
    "* `lost_plants_eia.csv`: The Plant IDs and Names of plants which appear in the PUDL ID mapping spreadsheet but which do **not** appear in the PUDL DB. Likely because EIA revised previous years of data, and removed those plants, after we had mapped them."
   ]
  },
  {
   "cell_type": "code",
   "execution_count": 1,
   "metadata": {},
   "outputs": [
    {
     "data": {
      "text/plain": [
       "{'pudl_in': '/Users/aesharpe/Desktop/Work/Catalyst_Coop/PUDL_DIR',\n",
       " 'data_dir': '/Users/aesharpe/Desktop/Work/Catalyst_Coop/PUDL_DIR/data',\n",
       " 'settings_dir': '/Users/aesharpe/Desktop/Work/Catalyst_Coop/PUDL_DIR/settings',\n",
       " 'pudl_out': '/Users/aesharpe/Desktop/Work/Catalyst_Coop/PUDL_DIR',\n",
       " 'sqlite_dir': '/Users/aesharpe/Desktop/Work/Catalyst_Coop/PUDL_DIR/sqlite',\n",
       " 'parquet_dir': '/Users/aesharpe/Desktop/Work/Catalyst_Coop/PUDL_DIR/parquet',\n",
       " 'datapkg_dir': '/Users/aesharpe/Desktop/Work/Catalyst_Coop/PUDL_DIR/datapkg',\n",
       " 'notebook_dir': '/Users/aesharpe/Desktop/Work/Catalyst_Coop/PUDL_DIR/notebook',\n",
       " 'ferc1_db': 'sqlite:////Users/aesharpe/Desktop/Work/Catalyst_Coop/PUDL_DIR/sqlite/ferc1.sqlite',\n",
       " 'pudl_db': 'sqlite:////Users/aesharpe/Desktop/Work/Catalyst_Coop/PUDL_DIR/sqlite/pudl.sqlite'}"
      ]
     },
     "execution_count": 1,
     "metadata": {},
     "output_type": "execute_result"
    }
   ],
   "source": [
    "%load_ext autoreload\n",
    "%autoreload 2\n",
    "import sqlalchemy as sa\n",
    "import pandas as pd\n",
    "import pudl\n",
    "import re\n",
    "from pathlib import Path\n",
    "pudl_settings = pudl.workspace.setup.get_defaults()\n",
    "pudl_settings"
   ]
  },
  {
   "cell_type": "markdown",
   "metadata": {},
   "source": [
    "## Setup:\n",
    "* Create FERC1/PUDL database connections\n",
    "* Set the scope of the FERC Form 1 search (which years to check)"
   ]
  },
  {
   "cell_type": "code",
   "execution_count": 2,
   "metadata": {},
   "outputs": [
    {
     "name": "stdout",
     "output_type": "stream",
     "text": [
      "Searching for new FERC 1 plants, utilities and strings in the following years:\n",
      "(1994, 1995, 1996, 1997, 1998, 1999, 2000, 2001, 2002, 2003, 2004, 2005, 2006, 2007, 2008, 2009, 2010, 2011, 2012, 2013, 2014, 2015, 2016, 2017, 2018, 2019)\n"
     ]
    }
   ],
   "source": [
    "ferc1_engine = sa.create_engine(pudl_settings[\"ferc1_db\"])\n",
    "pudl_engine = sa.create_engine(pudl_settings[\"pudl_db\"])\n",
    "ferc1_years = pudl.constants.data_years[\"ferc1\"]\n",
    "print(\"Searching for new FERC 1 plants, utilities and strings in the following years:\")\n",
    "print(ferc1_years)"
   ]
  },
  {
   "cell_type": "markdown",
   "metadata": {},
   "source": [
    "## Unmapped FERC Form 1 Plants"
   ]
  },
  {
   "cell_type": "code",
   "execution_count": 3,
   "metadata": {},
   "outputs": [
    {
     "name": "stdout",
     "output_type": "stream",
     "text": [
      "0 unmapped FERC 1 plants found in 1994-2019.\n",
      "Writing 0 out to unmapped_plants_ferc1.csv\n"
     ]
    },
    {
     "data": {
      "text/html": [
       "<div>\n",
       "<style scoped>\n",
       "    .dataframe tbody tr th:only-of-type {\n",
       "        vertical-align: middle;\n",
       "    }\n",
       "\n",
       "    .dataframe tbody tr th {\n",
       "        vertical-align: top;\n",
       "    }\n",
       "\n",
       "    .dataframe thead th {\n",
       "        text-align: right;\n",
       "    }\n",
       "</style>\n",
       "<table border=\"1\" class=\"dataframe\">\n",
       "  <thead>\n",
       "    <tr style=\"text-align: right;\">\n",
       "      <th></th>\n",
       "      <th>utility_id_ferc1</th>\n",
       "      <th>plant_name_ferc1</th>\n",
       "      <th>utility_name_ferc1</th>\n",
       "      <th>capacity_mw</th>\n",
       "      <th>plant_table</th>\n",
       "    </tr>\n",
       "  </thead>\n",
       "  <tbody>\n",
       "  </tbody>\n",
       "</table>\n",
       "</div>"
      ],
      "text/plain": [
       "Empty DataFrame\n",
       "Columns: [utility_id_ferc1, plant_name_ferc1, utility_name_ferc1, capacity_mw, plant_table]\n",
       "Index: []"
      ]
     },
     "execution_count": 3,
     "metadata": {},
     "output_type": "execute_result"
    }
   ],
   "source": [
    "unmapped_plants_ferc1 = pudl.glue.ferc1_eia.get_unmapped_plants_ferc1(pudl_settings, years=ferc1_years)\n",
    "n_ferc1_unmapped_plants = len(unmapped_plants_ferc1)\n",
    "print(f\"{n_ferc1_unmapped_plants} unmapped FERC 1 plants found in {min(ferc1_years)}-{max(ferc1_years)}.\")\n",
    "outfile = Path(\"unmapped_plants_ferc1.csv\")\n",
    "print(f\"Writing {n_ferc1_unmapped_plants} out to {outfile}\")\n",
    "unmapped_plants_ferc1.to_csv(outfile, index=False)\n",
    "unmapped_plants_ferc1"
   ]
  },
  {
   "cell_type": "markdown",
   "metadata": {},
   "source": [
    "## Unmapped FERC Form 1 Utilities / Respondents\n",
    "* **Note:** Frequently there are zero of these."
   ]
  },
  {
   "cell_type": "code",
   "execution_count": 4,
   "metadata": {},
   "outputs": [
    {
     "name": "stdout",
     "output_type": "stream",
     "text": [
      "0 unmapped FERC 1 utilities found in 1994-2019.\n",
      "Writing 0 out to unmapped_utilities_ferc1.csv\n"
     ]
    },
    {
     "data": {
      "text/html": [
       "<div>\n",
       "<style scoped>\n",
       "    .dataframe tbody tr th:only-of-type {\n",
       "        vertical-align: middle;\n",
       "    }\n",
       "\n",
       "    .dataframe tbody tr th {\n",
       "        vertical-align: top;\n",
       "    }\n",
       "\n",
       "    .dataframe thead th {\n",
       "        text-align: right;\n",
       "    }\n",
       "</style>\n",
       "<table border=\"1\" class=\"dataframe\">\n",
       "  <thead>\n",
       "    <tr style=\"text-align: right;\">\n",
       "      <th></th>\n",
       "      <th>utility_id_ferc1</th>\n",
       "      <th>utility_name_ferc1</th>\n",
       "    </tr>\n",
       "  </thead>\n",
       "  <tbody>\n",
       "  </tbody>\n",
       "</table>\n",
       "</div>"
      ],
      "text/plain": [
       "Empty DataFrame\n",
       "Columns: [utility_id_ferc1, utility_name_ferc1]\n",
       "Index: []"
      ]
     },
     "execution_count": 4,
     "metadata": {},
     "output_type": "execute_result"
    }
   ],
   "source": [
    "unmapped_utils_ferc1 = pudl.glue.ferc1_eia.get_unmapped_utils_ferc1(ferc1_engine)\n",
    "n_ferc1_unmapped_utils = len(unmapped_utils_ferc1)\n",
    "print(f\"{n_ferc1_unmapped_utils} unmapped FERC 1 utilities found in {min(ferc1_years)}-{max(ferc1_years)}.\")\n",
    "outfile = Path(\"unmapped_utilities_ferc1.csv\")\n",
    "print(f\"Writing {n_ferc1_unmapped_utils} out to {outfile}\")\n",
    "unmapped_utils_ferc1.to_csv(outfile, index=False)\n",
    "unmapped_utils_ferc1"
   ]
  },
  {
   "cell_type": "markdown",
   "metadata": {},
   "source": [
    "## Unmapped EIA Plants\n",
    "* **Note:** Some unmapped EIA plants do not have Utilities associated with them.\n",
    "* Many of these plants are too small to warrant mapping, and so capacity is included as a potential filter.\n",
    "* Also note that the first and last few plants in the output dataframe have a bunch of NA values... which can be confusing."
   ]
  },
  {
   "cell_type": "code",
   "execution_count": 5,
   "metadata": {},
   "outputs": [
    {
     "name": "stdout",
     "output_type": "stream",
     "text": [
      "Found 0 unmapped EIA plants.\n"
     ]
    },
    {
     "data": {
      "text/html": [
       "<div>\n",
       "<style scoped>\n",
       "    .dataframe tbody tr th:only-of-type {\n",
       "        vertical-align: middle;\n",
       "    }\n",
       "\n",
       "    .dataframe tbody tr th {\n",
       "        vertical-align: top;\n",
       "    }\n",
       "\n",
       "    .dataframe thead th {\n",
       "        text-align: right;\n",
       "    }\n",
       "</style>\n",
       "<table border=\"1\" class=\"dataframe\">\n",
       "  <thead>\n",
       "    <tr style=\"text-align: right;\">\n",
       "      <th></th>\n",
       "      <th>plant_id_eia</th>\n",
       "      <th>plant_name_eia</th>\n",
       "      <th>utility_id_eia</th>\n",
       "      <th>utility_name_eia</th>\n",
       "      <th>state</th>\n",
       "      <th>capacity_mw</th>\n",
       "    </tr>\n",
       "  </thead>\n",
       "  <tbody>\n",
       "  </tbody>\n",
       "</table>\n",
       "</div>"
      ],
      "text/plain": [
       "Empty DataFrame\n",
       "Columns: [plant_id_eia, plant_name_eia, utility_id_eia, utility_name_eia, state, capacity_mw]\n",
       "Index: []"
      ]
     },
     "execution_count": 5,
     "metadata": {},
     "output_type": "execute_result"
    }
   ],
   "source": [
    "unmapped_plants_eia = pudl.glue.ferc1_eia.get_unmapped_plants_eia(pudl_engine)\n",
    "print(f\"Found {len(unmapped_plants_eia)} unmapped EIA plants.\")\n",
    "outfile = Path(\"unmapped_plants_eia.csv\")\n",
    "unmapped_plants_eia.to_csv(outfile)\n",
    "unmapped_plants_eia"
   ]
  },
  {
   "cell_type": "markdown",
   "metadata": {},
   "source": [
    "## Lost EIA Plants\n",
    "* There shouldn't be very many of these... if it's more than a few hundred (out of the ~10,000 EIA plants) then something may be wrong."
   ]
  },
  {
   "cell_type": "code",
   "execution_count": 6,
   "metadata": {},
   "outputs": [
    {
     "name": "stdout",
     "output_type": "stream",
     "text": [
      "Found 87 lost EIA plants.\n"
     ]
    },
    {
     "data": {
      "text/html": [
       "<div>\n",
       "<style scoped>\n",
       "    .dataframe tbody tr th:only-of-type {\n",
       "        vertical-align: middle;\n",
       "    }\n",
       "\n",
       "    .dataframe tbody tr th {\n",
       "        vertical-align: top;\n",
       "    }\n",
       "\n",
       "    .dataframe thead th {\n",
       "        text-align: right;\n",
       "    }\n",
       "</style>\n",
       "<table border=\"1\" class=\"dataframe\">\n",
       "  <thead>\n",
       "    <tr style=\"text-align: right;\">\n",
       "      <th></th>\n",
       "      <th>plant_name_eia</th>\n",
       "    </tr>\n",
       "    <tr>\n",
       "      <th>plant_id_eia</th>\n",
       "      <th></th>\n",
       "    </tr>\n",
       "  </thead>\n",
       "  <tbody>\n",
       "    <tr>\n",
       "      <th>63964</th>\n",
       "      <td>ssd marion 1, llc</td>\n",
       "    </tr>\n",
       "    <tr>\n",
       "      <th>63966</th>\n",
       "      <td>fastsun12</td>\n",
       "    </tr>\n",
       "    <tr>\n",
       "      <th>63942</th>\n",
       "      <td>sunpin blandford</td>\n",
       "    </tr>\n",
       "    <tr>\n",
       "      <th>63960</th>\n",
       "      <td>ssd marion 6, llc</td>\n",
       "    </tr>\n",
       "    <tr>\n",
       "      <th>63997</th>\n",
       "      <td>pine hill</td>\n",
       "    </tr>\n",
       "    <tr>\n",
       "      <th>63963</th>\n",
       "      <td>ssd clackamas 7, llc</td>\n",
       "    </tr>\n",
       "    <tr>\n",
       "      <th>63977</th>\n",
       "      <td>central generating</td>\n",
       "    </tr>\n",
       "    <tr>\n",
       "      <th>63967</th>\n",
       "      <td>charter durabar at woodstock</td>\n",
       "    </tr>\n",
       "    <tr>\n",
       "      <th>63999</th>\n",
       "      <td>micanopy energy storage facility</td>\n",
       "    </tr>\n",
       "    <tr>\n",
       "      <th>63943</th>\n",
       "      <td>coso battery storage</td>\n",
       "    </tr>\n",
       "  </tbody>\n",
       "</table>\n",
       "</div>"
      ],
      "text/plain": [
       "                                plant_name_eia\n",
       "plant_id_eia                                  \n",
       "63964                        ssd marion 1, llc\n",
       "63966                                fastsun12\n",
       "63942                         sunpin blandford\n",
       "63960                        ssd marion 6, llc\n",
       "63997                                pine hill\n",
       "63963                     ssd clackamas 7, llc\n",
       "63977                       central generating\n",
       "63967             charter durabar at woodstock\n",
       "63999         micanopy energy storage facility\n",
       "63943                     coso battery storage"
      ]
     },
     "execution_count": 6,
     "metadata": {},
     "output_type": "execute_result"
    }
   ],
   "source": [
    "lost_plants_eia = pudl.glue.ferc1_eia.get_lost_plants_eia(pudl_engine)\n",
    "print(f\"Found {len(lost_plants_eia)} lost EIA plants.\")\n",
    "outfile = Path(\"lost_plants_eia.csv\")\n",
    "outfile.unlink(missing_ok=True)\n",
    "outfile.touch()\n",
    "lost_plants_eia.to_csv(outfile)\n",
    "lost_plants_eia.sample(10)"
   ]
  },
  {
   "cell_type": "markdown",
   "metadata": {},
   "source": [
    "## Unmapped EIA Utilities\n",
    "* Especially with the advent of many small distributed generators, there are often just as many new utilities as there are new plants."
   ]
  },
  {
   "cell_type": "code",
   "execution_count": 7,
   "metadata": {},
   "outputs": [
    {
     "name": "stdout",
     "output_type": "stream",
     "text": [
      "Found 6289 unmapped EIA utilities.\n",
      "Found 2108 unmapped utilities with plants/ownership.\n"
     ]
    },
    {
     "data": {
      "text/html": [
       "<div>\n",
       "<style scoped>\n",
       "    .dataframe tbody tr th:only-of-type {\n",
       "        vertical-align: middle;\n",
       "    }\n",
       "\n",
       "    .dataframe tbody tr th {\n",
       "        vertical-align: top;\n",
       "    }\n",
       "\n",
       "    .dataframe thead th {\n",
       "        text-align: right;\n",
       "    }\n",
       "</style>\n",
       "<table border=\"1\" class=\"dataframe\">\n",
       "  <thead>\n",
       "    <tr style=\"text-align: right;\">\n",
       "      <th></th>\n",
       "      <th>utility_name_eia</th>\n",
       "    </tr>\n",
       "    <tr>\n",
       "      <th>utility_id_eia</th>\n",
       "      <th></th>\n",
       "    </tr>\n",
       "  </thead>\n",
       "  <tbody>\n",
       "    <tr>\n",
       "      <th>13997</th>\n",
       "      <td>ohio city village of</td>\n",
       "    </tr>\n",
       "    <tr>\n",
       "      <th>27222</th>\n",
       "      <td>ripley city of</td>\n",
       "    </tr>\n",
       "    <tr>\n",
       "      <th>61229</th>\n",
       "      <td>waterville solar holdings llc</td>\n",
       "    </tr>\n",
       "    <tr>\n",
       "      <th>12744</th>\n",
       "      <td>modern electric water co</td>\n",
       "    </tr>\n",
       "    <tr>\n",
       "      <th>20963</th>\n",
       "      <td>woodruff electric coop corp</td>\n",
       "    </tr>\n",
       "    <tr>\n",
       "      <th>34620</th>\n",
       "      <td>tanaska grimes partners lp</td>\n",
       "    </tr>\n",
       "    <tr>\n",
       "      <th>62876</th>\n",
       "      <td>department of the army, fort carson</td>\n",
       "    </tr>\n",
       "    <tr>\n",
       "      <th>12540</th>\n",
       "      <td>milford city of</td>\n",
       "    </tr>\n",
       "    <tr>\n",
       "      <th>62788</th>\n",
       "      <td>oberon solar ia</td>\n",
       "    </tr>\n",
       "    <tr>\n",
       "      <th>3008</th>\n",
       "      <td>carey village of</td>\n",
       "    </tr>\n",
       "  </tbody>\n",
       "</table>\n",
       "</div>"
      ],
      "text/plain": [
       "                                   utility_name_eia\n",
       "utility_id_eia                                     \n",
       "13997                          ohio city village of\n",
       "27222                                ripley city of\n",
       "61229                 waterville solar holdings llc\n",
       "12744                      modern electric water co\n",
       "20963                   woodruff electric coop corp\n",
       "34620                    tanaska grimes partners lp\n",
       "62876           department of the army, fort carson\n",
       "12540                               milford city of\n",
       "62788                               oberon solar ia\n",
       "3008                               carey village of"
      ]
     },
     "execution_count": 7,
     "metadata": {},
     "output_type": "execute_result"
    }
   ],
   "source": [
    "unmapped_utils_eia = pudl.glue.ferc1_eia.get_unmapped_utils_eia(pudl_engine)\n",
    "print(f\"Found {len(unmapped_utils_eia)} unmapped EIA utilities.\")\n",
    "outfile = Path(\"all_unmapped_utilities_eia.csv\")\n",
    "unmapped_utils_eia.to_csv(outfile)\n",
    "\n",
    "miss_utils = pudl.glue.ferc1_eia.get_unmapped_utils_with_plants_eia(pudl_engine)\n",
    "print(f\"Found {len(miss_utils)} unmapped utilities with plants/ownership.\")\n",
    "outfile = Path(\"planted_unmapped_utilities_eia.csv\")\n",
    "miss_utils.to_csv(outfile)\n",
    "\n",
    "unmapped_utils_eia.sample(min(len(unmapped_utils_eia),10))"
   ]
  },
  {
   "cell_type": "markdown",
   "metadata": {},
   "source": [
    "## Another Kind of Unmapped EIA Utilities\n",
    "* This cell looks *only* for the EIA utilities that show up somewhere in the EIA 923 data, but still don't have a `utility_id_pudl` value assigned to them."
   ]
  },
  {
   "cell_type": "code",
   "execution_count": 8,
   "metadata": {},
   "outputs": [
    {
     "name": "stdout",
     "output_type": "stream",
     "text": [
      "Found 0 utilities with EIA 923 data but no PUDL Utility ID.\n"
     ]
    },
    {
     "data": {
      "text/html": [
       "<div>\n",
       "<style scoped>\n",
       "    .dataframe tbody tr th:only-of-type {\n",
       "        vertical-align: middle;\n",
       "    }\n",
       "\n",
       "    .dataframe tbody tr th {\n",
       "        vertical-align: top;\n",
       "    }\n",
       "\n",
       "    .dataframe thead th {\n",
       "        text-align: right;\n",
       "    }\n",
       "</style>\n",
       "<table border=\"1\" class=\"dataframe\">\n",
       "  <thead>\n",
       "    <tr style=\"text-align: right;\">\n",
       "      <th></th>\n",
       "      <th>utility_name_eia</th>\n",
       "    </tr>\n",
       "    <tr>\n",
       "      <th>utility_id_eia</th>\n",
       "      <th></th>\n",
       "    </tr>\n",
       "  </thead>\n",
       "  <tbody>\n",
       "  </tbody>\n",
       "</table>\n",
       "</div>"
      ],
      "text/plain": [
       "Empty DataFrame\n",
       "Columns: [utility_name_eia]\n",
       "Index: []"
      ]
     },
     "execution_count": 8,
     "metadata": {},
     "output_type": "execute_result"
    }
   ],
   "source": [
    "pudl_raw = pudl.output.pudltabl.PudlTabl(pudl_engine, freq=None)\n",
    "frc_eia923 = pudl_raw.frc_eia923()\n",
    "gf_eia923 = pudl_raw.gf_eia923()\n",
    "gen_eia923 = pudl_raw.gen_eia923()\n",
    "bf_eia923 = pudl_raw.bf_eia923()\n",
    "\n",
    "missing_frc = frc_eia923[frc_eia923.utility_id_pudl.isna()][[\"utility_id_eia\", \"utility_name_eia\"]]\n",
    "missing_gf = gf_eia923[gf_eia923.utility_id_pudl.isna()][[\"utility_id_eia\", \"utility_name_eia\"]]\n",
    "missing_bf = bf_eia923[bf_eia923.utility_id_pudl.isna()][[\"utility_id_eia\", \"utility_name_eia\"]]\n",
    "missing_gens = gen_eia923[gen_eia923.utility_id_pudl.isna()][[\"utility_id_eia\", \"utility_name_eia\"]]\n",
    "\n",
    "missing_utils = (\n",
    "    pd.concat([missing_frc, missing_bf, missing_gf, missing_gens])\n",
    "    .drop_duplicates(subset=\"utility_id_eia\")\n",
    "    .set_index(\"utility_id_eia\")\n",
    ")\n",
    "\n",
    "print(f\"Found {len(missing_utils)} utilities with EIA 923 data but no PUDL Utility ID.\")\n",
    "outfile = Path(\"dataful_unmapped_utilities_eia.csv\")\n",
    "missing_utils.to_csv(outfile)\n",
    "missing_utils.sample(min(len(missing_utils), 10))"
   ]
  },
  {
   "cell_type": "code",
   "execution_count": 9,
   "metadata": {},
   "outputs": [
    {
     "data": {
      "text/html": [
       "<div>\n",
       "<style scoped>\n",
       "    .dataframe tbody tr th:only-of-type {\n",
       "        vertical-align: middle;\n",
       "    }\n",
       "\n",
       "    .dataframe tbody tr th {\n",
       "        vertical-align: top;\n",
       "    }\n",
       "\n",
       "    .dataframe thead th {\n",
       "        text-align: right;\n",
       "    }\n",
       "</style>\n",
       "<table border=\"1\" class=\"dataframe\">\n",
       "  <thead>\n",
       "    <tr style=\"text-align: right;\">\n",
       "      <th></th>\n",
       "      <th>utility_name_eia</th>\n",
       "    </tr>\n",
       "    <tr>\n",
       "      <th>utility_id_eia</th>\n",
       "      <th></th>\n",
       "    </tr>\n",
       "  </thead>\n",
       "  <tbody>\n",
       "  </tbody>\n",
       "</table>\n",
       "</div>"
      ],
      "text/plain": [
       "Empty DataFrame\n",
       "Columns: [utility_name_eia]\n",
       "Index: []"
      ]
     },
     "execution_count": 9,
     "metadata": {},
     "output_type": "execute_result"
    }
   ],
   "source": [
    "missing_utils.iloc[50:100]"
   ]
  },
  {
   "cell_type": "markdown",
   "metadata": {},
   "source": [
    "## Lost EIA Utilities\n",
    "* Again, there shouldn't be **too** many of these. If it's thousands, not hundreds, dig deeper."
   ]
  },
  {
   "cell_type": "code",
   "execution_count": 10,
   "metadata": {},
   "outputs": [
    {
     "name": "stdout",
     "output_type": "stream",
     "text": [
      "Found 2 lost EIA utilities.\n"
     ]
    }
   ],
   "source": [
    "lost_utils_eia = pudl.glue.ferc1_eia.get_lost_utils_eia(pudl_engine)\n",
    "print(f\"Found {len(lost_utils_eia)} lost EIA utilities.\")\n",
    "outfile = Path(\"lost_utilities_eia.csv\")\n",
    "lost_utils_eia.to_csv(outfile)"
   ]
  },
  {
   "cell_type": "markdown",
   "metadata": {},
   "source": [
    "## Cleaning other FERC Form 1 Plant Tables\n",
    "* There are several additional FERC Form 1 tables which contain plant data.\n",
    "* These include small plants, hydro, and pumped storage.\n",
    "* Thus far we have not done much concerted work cleaning up / categorizing these plants, though they do get PUDL IDs.\n",
    "* The following cell pulls the small plants (`f1_gnrt_plant`) table with some fields that would be useful for categorization.\n",
    "* This is just a prototype/outline/suggestion..."
   ]
  },
  {
   "cell_type": "code",
   "execution_count": 11,
   "metadata": {},
   "outputs": [
    {
     "name": "stdout",
     "output_type": "stream",
     "text": [
      "Writing 19559 small plant records out to f1_gnrt_plant.csv\n"
     ]
    },
    {
     "data": {
      "text/html": [
       "<div>\n",
       "<style scoped>\n",
       "    .dataframe tbody tr th:only-of-type {\n",
       "        vertical-align: middle;\n",
       "    }\n",
       "\n",
       "    .dataframe tbody tr th {\n",
       "        vertical-align: top;\n",
       "    }\n",
       "\n",
       "    .dataframe thead th {\n",
       "        text-align: right;\n",
       "    }\n",
       "</style>\n",
       "<table border=\"1\" class=\"dataframe\">\n",
       "  <thead>\n",
       "    <tr style=\"text-align: right;\">\n",
       "      <th></th>\n",
       "      <th>report_year</th>\n",
       "      <th>respondent_id</th>\n",
       "      <th>respondent_name</th>\n",
       "      <th>record_number</th>\n",
       "      <th>plant_name</th>\n",
       "      <th>capacity_mw</th>\n",
       "      <th>kind_of_fuel</th>\n",
       "    </tr>\n",
       "  </thead>\n",
       "  <tbody>\n",
       "    <tr>\n",
       "      <th>616</th>\n",
       "      <td>1994</td>\n",
       "      <td>3</td>\n",
       "      <td>alaska electric light and power company</td>\n",
       "      <td>1</td>\n",
       "      <td>gold creek hydro</td>\n",
       "      <td>1.60</td>\n",
       "      <td></td>\n",
       "    </tr>\n",
       "    <tr>\n",
       "      <th>617</th>\n",
       "      <td>1994</td>\n",
       "      <td>3</td>\n",
       "      <td>alaska electric light and power company</td>\n",
       "      <td>3</td>\n",
       "      <td>gold creek internal combustion:</td>\n",
       "      <td>0.00</td>\n",
       "      <td></td>\n",
       "    </tr>\n",
       "    <tr>\n",
       "      <th>618</th>\n",
       "      <td>1994</td>\n",
       "      <td>3</td>\n",
       "      <td>alaska electric light and power company</td>\n",
       "      <td>4</td>\n",
       "      <td>enterprise diesel</td>\n",
       "      <td>1.25</td>\n",
       "      <td></td>\n",
       "    </tr>\n",
       "    <tr>\n",
       "      <th>619</th>\n",
       "      <td>1994</td>\n",
       "      <td>3</td>\n",
       "      <td>alaska electric light and power company</td>\n",
       "      <td>5</td>\n",
       "      <td>enterprise diesel</td>\n",
       "      <td>1.25</td>\n",
       "      <td></td>\n",
       "    </tr>\n",
       "    <tr>\n",
       "      <th>620</th>\n",
       "      <td>1994</td>\n",
       "      <td>3</td>\n",
       "      <td>alaska electric light and power company</td>\n",
       "      <td>6</td>\n",
       "      <td>enterprise diesel</td>\n",
       "      <td>3.50</td>\n",
       "      <td>diesel</td>\n",
       "    </tr>\n",
       "    <tr>\n",
       "      <th>...</th>\n",
       "      <td>...</td>\n",
       "      <td>...</td>\n",
       "      <td>...</td>\n",
       "      <td>...</td>\n",
       "      <td>...</td>\n",
       "      <td>...</td>\n",
       "      <td>...</td>\n",
       "    </tr>\n",
       "    <tr>\n",
       "      <th>19504</th>\n",
       "      <td>2019</td>\n",
       "      <td>529</td>\n",
       "      <td>tri-state generation and transmission associat...</td>\n",
       "      <td>2</td>\n",
       "      <td>rifle</td>\n",
       "      <td>186.00</td>\n",
       "      <td>gas, fuel oil</td>\n",
       "    </tr>\n",
       "    <tr>\n",
       "      <th>19505</th>\n",
       "      <td>2019</td>\n",
       "      <td>529</td>\n",
       "      <td>tri-state generation and transmission associat...</td>\n",
       "      <td>3</td>\n",
       "      <td>limon</td>\n",
       "      <td>84.00</td>\n",
       "      <td>gas</td>\n",
       "    </tr>\n",
       "    <tr>\n",
       "      <th>19506</th>\n",
       "      <td>2019</td>\n",
       "      <td>529</td>\n",
       "      <td>tri-state generation and transmission associat...</td>\n",
       "      <td>4</td>\n",
       "      <td>knutson</td>\n",
       "      <td>154.20</td>\n",
       "      <td>gas, fuel oil</td>\n",
       "    </tr>\n",
       "    <tr>\n",
       "      <th>19507</th>\n",
       "      <td>2019</td>\n",
       "      <td>529</td>\n",
       "      <td>tri-state generation and transmission associat...</td>\n",
       "      <td>5</td>\n",
       "      <td>nucla</td>\n",
       "      <td>154.20</td>\n",
       "      <td>gas, fuel oil</td>\n",
       "    </tr>\n",
       "    <tr>\n",
       "      <th>19508</th>\n",
       "      <td>2019</td>\n",
       "      <td>529</td>\n",
       "      <td>tri-state generation and transmission associat...</td>\n",
       "      <td>6</td>\n",
       "      <td>burlington</td>\n",
       "      <td>113.80</td>\n",
       "      <td></td>\n",
       "    </tr>\n",
       "  </tbody>\n",
       "</table>\n",
       "<p>19559 rows × 7 columns</p>\n",
       "</div>"
      ],
      "text/plain": [
       "       report_year  respondent_id  \\\n",
       "616           1994              3   \n",
       "617           1994              3   \n",
       "618           1994              3   \n",
       "619           1994              3   \n",
       "620           1994              3   \n",
       "...            ...            ...   \n",
       "19504         2019            529   \n",
       "19505         2019            529   \n",
       "19506         2019            529   \n",
       "19507         2019            529   \n",
       "19508         2019            529   \n",
       "\n",
       "                                         respondent_name  record_number  \\\n",
       "616              alaska electric light and power company              1   \n",
       "617              alaska electric light and power company              3   \n",
       "618              alaska electric light and power company              4   \n",
       "619              alaska electric light and power company              5   \n",
       "620              alaska electric light and power company              6   \n",
       "...                                                  ...            ...   \n",
       "19504  tri-state generation and transmission associat...              2   \n",
       "19505  tri-state generation and transmission associat...              3   \n",
       "19506  tri-state generation and transmission associat...              4   \n",
       "19507  tri-state generation and transmission associat...              5   \n",
       "19508  tri-state generation and transmission associat...              6   \n",
       "\n",
       "                            plant_name  capacity_mw   kind_of_fuel  \n",
       "616                   gold creek hydro         1.60                 \n",
       "617    gold creek internal combustion:         0.00                 \n",
       "618                  enterprise diesel         1.25                 \n",
       "619                  enterprise diesel         1.25                 \n",
       "620                  enterprise diesel         3.50         diesel  \n",
       "...                                ...          ...            ...  \n",
       "19504                            rifle       186.00  gas, fuel oil  \n",
       "19505                            limon        84.00            gas  \n",
       "19506                          knutson       154.20  gas, fuel oil  \n",
       "19507                            nucla       154.20  gas, fuel oil  \n",
       "19508                       burlington       113.80                 \n",
       "\n",
       "[19559 rows x 7 columns]"
      ]
     },
     "execution_count": 11,
     "metadata": {},
     "output_type": "execute_result"
    }
   ],
   "source": [
    "small_plants_ferc1 = (\n",
    "    pd.read_sql(\n",
    "        f\"\"\"SELECT f1_gnrt_plant.report_year,\\\n",
    "                   f1_gnrt_plant.respondent_id,\\\n",
    "                   f1_gnrt_plant.row_number,\\\n",
    "                   f1_gnrt_plant.spplmnt_num,\\\n",
    "                   f1_gnrt_plant.plant_name,\\\n",
    "                   f1_gnrt_plant.capacity_rating,\\\n",
    "                   f1_gnrt_plant.kind_of_fuel, \\\n",
    "                   f1_respondent_id.respondent_name\\\n",
    "            FROM f1_gnrt_plant, f1_respondent_id \\\n",
    "            WHERE report_year>={min(ferc1_years)}\n",
    "            AND report_year<={max(ferc1_years)}\n",
    "            AND f1_respondent_id.respondent_id=f1_gnrt_plant.respondent_id;\"\"\", ferc1_engine).\n",
    "    assign(record_number=lambda x: x[\"row_number\"] + 46*x[\"spplmnt_num\"]).\n",
    "    drop([\"row_number\", \"spplmnt_num\"], axis=\"columns\").\n",
    "    pipe(pudl.helpers.simplify_strings, columns=[\"plant_name\", \"kind_of_fuel\", \"respondent_name\"]).\n",
    "    rename(columns={\"capacity_rating\": \"capacity_mw\"}).\n",
    "    loc[:,[\"report_year\", \"respondent_id\", \"respondent_name\", \"record_number\", \"plant_name\", \"capacity_mw\", \"kind_of_fuel\"]].\n",
    "    sort_values([\"report_year\", \"respondent_id\", \"record_number\"])\n",
    ")\n",
    "n_small_plants_ferc1 = len(small_plants_ferc1)\n",
    "outfile = Path(\"f1_gnrt_plant.csv\")\n",
    "print(f\"Writing {n_small_plants_ferc1} small plant records out to {outfile}\")\n",
    "small_plants_ferc1.to_csv(outfile, index=False)\n",
    "small_plants_ferc1"
   ]
  },
  {
   "cell_type": "code",
   "execution_count": null,
   "metadata": {},
   "outputs": [],
   "source": []
  }
 ],
 "metadata": {
  "kernelspec": {
   "display_name": "Python 3",
   "language": "python",
   "name": "python3"
  },
  "language_info": {
   "codemirror_mode": {
    "name": "ipython",
    "version": 3
   },
   "file_extension": ".py",
   "mimetype": "text/x-python",
   "name": "python",
   "nbconvert_exporter": "python",
   "pygments_lexer": "ipython3",
   "version": "3.8.6"
  }
 },
 "nbformat": 4,
 "nbformat_minor": 4
}
