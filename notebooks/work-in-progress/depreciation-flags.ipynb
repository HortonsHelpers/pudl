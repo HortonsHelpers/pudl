{
 "cells": [
  {
   "cell_type": "markdown",
   "id": "temporal-separate",
   "metadata": {},
   "source": [
    "# **Setting Up RMI Depreciation Flags for FERC 1 Data**"
   ]
  },
  {
   "cell_type": "markdown",
   "id": "pregnant-situation",
   "metadata": {},
   "source": [
    "### Setup"
   ]
  },
  {
   "cell_type": "code",
   "execution_count": 1,
   "id": "universal-calculator",
   "metadata": {},
   "outputs": [],
   "source": [
    "%load_ext autoreload\n",
    "%autoreload 2"
   ]
  },
  {
   "cell_type": "code",
   "execution_count": 2,
   "id": "enhanced-archive",
   "metadata": {},
   "outputs": [],
   "source": [
    "# Standard libraries\n",
    "import logging\n",
    "import sys\n",
    "import os\n",
    "import pathlib\n",
    "\n",
    "# 3rd party libraries\n",
    "import geopandas as gpd\n",
    "import dask.dataframe as dd\n",
    "from dask.distributed import Client\n",
    "import matplotlib.pyplot as plt\n",
    "import matplotlib as mpl\n",
    "import numpy as np\n",
    "import pandas as pd\n",
    "import seaborn as sns\n",
    "import sqlalchemy as sa\n",
    "\n",
    "# Local libraries\n",
    "import pudl"
   ]
  },
  {
   "cell_type": "code",
   "execution_count": 3,
   "id": "sapphire-webster",
   "metadata": {},
   "outputs": [],
   "source": [
    "# Enable viewing of logging outputs\n",
    "logger=logging.getLogger()\n",
    "logger.setLevel(logging.INFO)\n",
    "handler = logging.StreamHandler(stream=sys.stdout)\n",
    "formatter = logging.Formatter('%(message)s')\n",
    "handler.setFormatter(formatter)\n",
    "logger.handlers = [handler]"
   ]
  },
  {
   "cell_type": "code",
   "execution_count": 225,
   "id": "interior-lawyer",
   "metadata": {},
   "outputs": [],
   "source": [
    "# Display settings\n",
    "sns.set()\n",
    "%matplotlib inline\n",
    "mpl.rcParams['figure.dpi'] = 150\n",
    "pd.options.display.max_columns = 100\n",
    "pd.options.display.max_rows = 20"
   ]
  },
  {
   "cell_type": "code",
   "execution_count": 5,
   "id": "biological-instrumentation",
   "metadata": {},
   "outputs": [],
   "source": [
    "# Establish connection to pudl database\n",
    "pudl_settings = pudl.workspace.setup.get_defaults()\n",
    "pudl_engine = sa.create_engine(pudl_settings['pudl_db'])\n",
    "pudl_out = pudl.output.pudltabl.PudlTabl(\n",
    "    pudl_engine=pudl_engine,\n",
    "    freq='AS'\n",
    ")"
   ]
  },
  {
   "cell_type": "code",
   "execution_count": 6,
   "id": "cosmetic-option",
   "metadata": {},
   "outputs": [],
   "source": [
    "# testing\n",
    "def mini_df(df, pid, year):\n",
    "    df1 =  df[df['plant_id_pudl']==pid] \n",
    "    \n",
    "    if 'report_year' in df.columns:\n",
    "        return df1[df1['report_year']==year]\n",
    "    elif 'report_date' in df.columns:\n",
    "        return df1[df1['report_date'].dt.year==year]"
   ]
  },
  {
   "cell_type": "code",
   "execution_count": 7,
   "id": "compound-bookmark",
   "metadata": {},
   "outputs": [],
   "source": [
    "ferc_agg_cols = [\n",
    "    'capacity_mw',\n",
    "    'net_generation_mwh',\n",
    "    'avg_num_employees',\n",
    "    'capex_land', 'capex_equipment', 'capex_structures', 'capex_total', 'asset_retirement_cost',\n",
    "    'opex_operations', 'opex_fuel', 'opex_coolants', 'opex_steam', 'opex_steam_other', 'opex_transfer', 'opex_electric', 'opex_misc_power', 'opex_rents', 'opex_allowances', 'opex_engineering', 'opex_structures', 'opex_boiler', 'opex_plants', 'opex_misc_steam', 'opex_production_total'\n",
    "]"
   ]
  },
  {
   "cell_type": "markdown",
   "id": "superb-nirvana",
   "metadata": {},
   "source": [
    "## **Step 1:** Create a better technology type"
   ]
  },
  {
   "cell_type": "markdown",
   "id": "elect-works",
   "metadata": {},
   "source": [
    "### **Step 1.1:** Merge steam table with fbp table\n",
    "PUDL already merges the steam and fuel tables in the fbp (fuel_by_plant) table. This table classifies each plant's fuel type based on fuel cost and fuel consumed by each plant by each fuel type. The fuel type with the highest percentage (according to a given threshold) is deemed the \"primary\" fuel source.\n",
    "\n",
    "Here, we merge the fbp table with the steam to get a new table that includes the primary fuel types and the steam fields excluded from the fbp table."
   ]
  },
  {
   "cell_type": "code",
   "execution_count": 1246,
   "id": "selective-settle",
   "metadata": {},
   "outputs": [],
   "source": [
    "# Generate the tables we'll be working with\n",
    "fbp = pudl_out.fbp_ferc1()\n",
    "steam = pudl_out.plants_steam_ferc1()\n",
    "plants = pudl_out.plants_eia860()\n",
    "gens = pudl_out.gens_eia860()\n",
    "net_gen = pudl_out.gen_eia923()\n",
    "fuel = pudl_out.fuel_ferc1()\n",
    "\n",
    "# Specify some column groupings for later\n",
    "ferc_id_cols = ['report_year', 'utility_id_ferc1', 'plant_name_ferc1']\n",
    "gen_id_cols = ['report_date', 'plant_id_pudl', 'generator_id']"
   ]
  },
  {
   "cell_type": "code",
   "execution_count": 1268,
   "id": "given-harris",
   "metadata": {},
   "outputs": [],
   "source": [
    "# Merge fbp and steam tables\n",
    "fbp_sample = fbp[ferc_id_cols + ['primary_fuel_by_mmbtu', 'primary_fuel_by_cost']]\n",
    "steam_better_fuel = pd.merge(steam, fbp_sample, on=ferc_id_cols, how='left').drop_duplicates()\n",
    "\n",
    "# Add primary fuel column and flag column to say where the fuel type designation comes from\n",
    "steam_better_fuel['primary_fuel'] = (\n",
    "    steam_better_fuel['primary_fuel_by_mmbtu']\n",
    "    .replace({'':np.nan, 'unknown': np.nan})\n",
    ")\n",
    "steam_better_fuel.loc[steam_better_fuel.primary_fuel.notna(), 'primary_fuel_flag'] = 'fbp primary_fuel_by_mmbtu'"
   ]
  },
  {
   "cell_type": "code",
   "execution_count": 1269,
   "id": "original-aside",
   "metadata": {},
   "outputs": [
    {
     "name": "stdout",
     "output_type": "stream",
     "text": [
      "rows with no fuel / total rows\n",
      "5096 / 29270\n"
     ]
    }
   ],
   "source": [
    "print('rows with no fuel / total rows')\n",
    "print(len(steam_better_fuel[steam_better_fuel['primary_fuel'].isna()]), '/', len(steam_better_fuel))"
   ]
  },
  {
   "cell_type": "code",
   "execution_count": 12,
   "id": "rotary-burner",
   "metadata": {},
   "outputs": [],
   "source": [
    "# *****This might not be what we want if it is plant-level!*****\n",
    "\n",
    "# Extend primary plant fuel type designation to all rows in a given plant-year group\n",
    "# steam_better_fuel['primary_plant_fuel_type'] = steam_better_fuel['primary_fuel_by_mmbtu'].astype('string')\n",
    "# steam_better_fuel['primary_plant_fuel_type'] = (\n",
    "#     steam_better_fuel\n",
    "#     .groupby(['report_year', 'plant_id_pudl'])['primary_plant_fuel_type']\n",
    "#     .transform(lambda x: x.max())\n",
    "#     .replace([''], pd.NA)\n",
    "# )"
   ]
  },
  {
   "cell_type": "markdown",
   "id": "fancy-flavor",
   "metadata": {},
   "source": [
    "### **Step 1.2:** Merge steam with EIA"
   ]
  },
  {
   "cell_type": "code",
   "execution_count": 1250,
   "id": "technical-ambassador",
   "metadata": {},
   "outputs": [],
   "source": [
    "# Combine generation from 860 with generation from 923 to get fuel type and net generation\n",
    "net_gen_fuel = pd.merge(gens, net_gen[gen_id_cols+['net_generation_mwh']], on=gen_id_cols, how='outer')"
   ]
  },
  {
   "cell_type": "code",
   "execution_count": 1251,
   "id": "british-bracket",
   "metadata": {},
   "outputs": [],
   "source": [
    "# Aggregate gen by plant and get primary plant fuel type based on net generation\n",
    "\n",
    "# Get plant net generation sums\n",
    "net_gen_fuel['plant_net_gen'] = (\n",
    "    net_gen_fuel.groupby(['report_date', 'plant_id_pudl'])['net_generation_mwh'].transform('sum')\n",
    ")\n",
    "\n",
    "# Calculate the portion of net generation that each row is responsible for\n",
    "net_gen_fuel['gen_pct'] = (\n",
    "    net_gen_fuel['net_generation_mwh'] / net_gen_fuel['plant_net_gen'] * 100\n",
    ")\n",
    "\n",
    "# Calculate the sum portion of net generation attributable to each fuel type \n",
    "net_gen_fuel_sum = (\n",
    "    net_gen_fuel.groupby(['report_date', 'plant_id_pudl', 'fuel_type_code_pudl'])['gen_pct'].sum().reset_index()\n",
    ")\n",
    "\n",
    "# Distinguish between rows that have more than one fuel (duplicates)\n",
    "net_gen_fuel_sum['dup'] = net_gen_fuel_sum.duplicated(['report_date', 'plant_id_pudl'], keep=False)\n",
    "\n",
    "# Keep rows with only one fuel\n",
    "one_fuel = (\n",
    "    net_gen_fuel_sum[net_gen_fuel_sum['dup']==False].copy()\n",
    "    .rename(columns={'fuel_type_code_pudl': 'primary_fuel_type_eia'})\n",
    "    .assign(report_year=lambda x: x.report_date.dt.year)\n",
    "    .drop(['report_date', 'gen_pct', 'dup'], axis=1)\n",
    ")"
   ]
  },
  {
   "cell_type": "code",
   "execution_count": 1258,
   "id": "second-visitor",
   "metadata": {},
   "outputs": [],
   "source": [
    "# Combine steam table with EIA plant primary fuel type table, add flag to note fuel type location\n",
    "steam_better_fuel_eia = pd.merge(steam_better_fuel, one_fuel, on=['report_year', 'plant_id_pudl'], how='left')\n",
    "\n",
    "# Add EIA primary fuels to the primary_fuel column where null and flag location\n",
    "steam_better_fuel_eia.loc[(steam_better_fuel_eia.primary_fuel.isna()) & (steam_better_fuel_eia.primary_fuel_type_eia.notna()), 'primary_fuel_flag'] = 'eia923 net_generation_mwh'\n",
    "steam_better_fuel_eia['primary_fuel'] = (\n",
    "    steam_better_fuel_eia['primary_fuel']\n",
    "    .fillna(steam_better_fuel_eia['primary_fuel_type_eia'])\n",
    ")\n",
    "\n",
    "# Add by primary_fuel_by_cost to further null cols and flag col\n",
    "steam_better_fuel_eia.loc[(steam_better_fuel_eia.primary_fuel.isna()) & (steam_better_fuel_eia.primary_fuel_by_cost.notna()), 'primary_fuel_flag'] = 'fbp primary_fuel_by_cost'\n",
    "steam_better_fuel_eia['primary_fuel'] = (\n",
    "    steam_better_fuel_eia['primary_fuel']\n",
    "    .fillna(steam_better_fuel_eia['primary_fuel_by_cost'])\n",
    "    .replace({'':np.nan, 'unknown': np.nan, 'other': np.nan})\n",
    ")"
   ]
  },
  {
   "cell_type": "code",
   "execution_count": 1265,
   "id": "available-violation",
   "metadata": {},
   "outputs": [
    {
     "name": "stdout",
     "output_type": "stream",
     "text": [
      "rows with no fuel / total rows\n",
      "2914 / 29270\n"
     ]
    }
   ],
   "source": [
    "print('rows with no fuel / total rows')\n",
    "print(len(steam_better_fuel_eia[steam_better_fuel_eia['primary_fuel'].isna()]), '/', len(steam_better_fuel))"
   ]
  },
  {
   "cell_type": "markdown",
   "id": "mediterranean-student",
   "metadata": {},
   "source": [
    "### **Step 1.3:** Merge with unlimited FERC"
   ]
  },
  {
   "cell_type": "code",
   "execution_count": 1261,
   "id": "blond-perth",
   "metadata": {},
   "outputs": [
    {
     "name": "stdout",
     "output_type": "stream",
     "text": [
      "Converting extracted FERC Form 1 table fuel_ferc1 into a pandas DataFrame.\n",
      "Transforming raw FERC Form 1 dataframe for loading into fuel_ferc1\n"
     ]
    }
   ],
   "source": [
    "# Create a new FERC fuel table that doesn't extrac for fuel != '' and fuel_quantity > 0\n",
    "\n",
    "ferc1_years = pudl.constants.working_partitions['ferc1']['years']\n",
    "ferc1_tables = ['fuel_ferc1'] # plants_steam_ferc1 \n",
    "ferc1_raw_dfs = pudl.extract.ferc1.extract(\n",
    "        ferc1_tables=ferc1_tables,\n",
    "        ferc1_years=ferc1_years,\n",
    "        pudl_settings=pudl_settings)\n",
    "ferc1_transformed_dfs = pudl.transform.ferc1.transform(\n",
    "        ferc1_raw_dfs, ferc1_tables=ferc1_tables)\n",
    "fuel_untamed = ferc1_transformed_dfs['fuel_ferc1']\n",
    "fuel_untamed_raw = ferc1_raw_dfs['fuel_ferc1']"
   ]
  },
  {
   "cell_type": "code",
   "execution_count": 1263,
   "id": "mysterious-break",
   "metadata": {},
   "outputs": [],
   "source": [
    "# Only grab the rows with fuel types that are known and not duplicated (have a single fuel)\n",
    "fuel_untamed_with_fuel = fuel_untamed[fuel_untamed['fuel_type_code_pudl']!='unknown'].copy()\n",
    "fuel_untamed_with_fuel['dup'] = fuel_untamed_with_fuel.duplicated(['report_year', 'utility_id_ferc1', 'plant_name_ferc1'], keep=False)\n",
    "single_fuel = fuel_untamed_with_fuel[fuel_untamed_with_fuel['dup']==False][['report_year', 'utility_id_ferc1', 'plant_name_ferc1', 'fuel_type_code_pudl']]\n",
    "\n",
    "# Combine with running table\n",
    "steam_better_fuel_untamed = (\n",
    "    pd.merge(\n",
    "        steam_better_fuel_eia, single_fuel, \n",
    "        on=['report_year', 'utility_id_ferc1', 'plant_name_ferc1'],\n",
    "        how='left')\n",
    ")\n",
    "\n",
    "# Add flag\n",
    "steam_better_fuel_untamed.loc[\n",
    "    (steam_better_fuel_untamed.primary_fuel.isna()) \n",
    "    & (steam_better_fuel_untamed.fuel_type_code_pudl.notna()), \n",
    "    'primary_fuel_flag'] = 'fuel_ferc1 no limits'\n",
    "\n",
    "# Add to primary fuel\n",
    "steam_better_fuel_untamed['primary_fuel'] = (\n",
    "    steam_better_fuel_untamed['primary_fuel']\n",
    "    .fillna(steam_better_fuel_untamed['fuel_type_code_pudl'])\n",
    ")"
   ]
  },
  {
   "cell_type": "code",
   "execution_count": 1266,
   "id": "oriental-painting",
   "metadata": {},
   "outputs": [
    {
     "name": "stdout",
     "output_type": "stream",
     "text": [
      "rows with no fuel / total rows\n",
      "2582 / 29270\n"
     ]
    }
   ],
   "source": [
    "print('rows with no fuel / total rows')\n",
    "print(len(steam_better_fuel_untamed[steam_better_fuel_untamed['primary_fuel'].isna()]), '/', len(steam_better_fuel))"
   ]
  },
  {
   "cell_type": "markdown",
   "id": "wanted-dinner",
   "metadata": {},
   "source": [
    "### **Step 1.4:** Merge with raw, unconverted FERC fuel average heat\n",
    "Now we're going to fill in the gaps. To do this, we need the raw FERC1 data without any unit conversions. This is because in the transformed data, only units with a stated fuel and unit type get unit conversions. This means that you can't compare the these units across time (if one year units and fuel are reported and another year they are not). It's likely that plans will report in the same units (regardless of whether they report a unit or fuel type), so we need the unconverted version to compare them and make inferences about the missing fuel types."
   ]
  },
  {
   "cell_type": "code",
   "execution_count": 1270,
   "id": "primary-heater",
   "metadata": {},
   "outputs": [],
   "source": [
    "# Perform a couple of simple cleaning mechanisms on the raw data to make it more compatible\n",
    "# with the cleaned steam table.\n",
    "fuel_ferc1_df = (\n",
    "    pudl.transform.ferc1._clean_cols(ferc1_raw_dfs['fuel_ferc1'], 'f1_fuel').\n",
    "    pipe(pudl.helpers.simplify_strings, ['plant_name']).\n",
    "    pipe(pudl.helpers.cleanstrings, ['fuel', 'fuel_unit'],\n",
    "         [FUEL_STRINGS, FUEL_UNIT_STRINGS],\n",
    "         unmapped='')\n",
    ")"
   ]
  },
  {
   "cell_type": "code",
   "execution_count": 1271,
   "id": "pretty-brazil",
   "metadata": {},
   "outputs": [],
   "source": [
    "# Select rows with no null heat rates and create a row that indicates the amount (clarify what that means)\n",
    "fah = (\n",
    "    fuel_ferc1_df\n",
    "    .loc[fuel_ferc1_df['fuel_avg_heat'].notna()]\n",
    "    .copy()\n",
    "    .rename(columns={'plant_name': 'plant_name_ferc1'})\n",
    "    .assign(amount=lambda x: x.fuel_quantity * x.fuel_avg_heat)\n",
    ")\n",
    "\n",
    "# FILL IN\n",
    "idx = fah.groupby(['report_year', 'utility_id_ferc1', 'plant_name_ferc1'])['amount'].transform('max') == fah['amount']\n",
    "fah = fah[idx]\n",
    "fah = fahh[['report_year', 'utility_id_ferc1', 'plant_name_ferc1', 'fuel', 'fuel_unit', 'fuel_avg_heat', 'fuel_quantity']]\n",
    "\n",
    "# Combine with the main df\n",
    "steam_better_fuel_infer = pd.merge(\n",
    "    steam_better_fuel_untamed, fahh, \n",
    "    on=['report_year', 'utility_id_ferc1', 'plant_name_ferc1'], \n",
    "    how='left')\n",
    "\n",
    "# Create a new column for the imputed fuel type\n",
    "steam_better_fuel_infer['new_fuel'] = np.nan\n"
   ]
  },
  {
   "cell_type": "code",
   "execution_count": 964,
   "id": "incomplete-malawi",
   "metadata": {},
   "outputs": [],
   "source": [
    "#test_df = fahh[fahh['plant_name_ferc1'].isin(['beluga', 'gorgas'])].copy()\n",
    "# test_df['new_fuel'] = np.nan\n",
    "# #test_df.groupby(['plant_name_ferc1']).apply(lambda x: test(x))\n",
    "# test_df = test_df[test_df['report_year'].isin(range(2014,2019))]\n",
    "# test_df"
   ]
  },
  {
   "cell_type": "code",
   "execution_count": 1272,
   "id": "preliminary-press",
   "metadata": {},
   "outputs": [],
   "source": [
    "def create_dict(df):\n",
    "    no_unk = df[(df['primary_fuel'].notna()) & (df['fuel_avg_heat'].notna())] # != 'unknown'\n",
    "    no_unk = no_unk.groupby(['plant_name_ferc1', 'primary_fuel'])['fuel_avg_heat'].median().reset_index()\n",
    "    no_unk['10pct'] = no_unk['fuel_avg_heat']*0.1\n",
    "\n",
    "    fuel_dict = {}\n",
    "    for i in no_unk['plant_name_ferc1'].unique():\n",
    "        fuel_dict[i] = dict(zip(\n",
    "            no_unk.loc[no_unk['plant_name_ferc1'] == i]['primary_fuel'], \n",
    "            no_unk.loc[no_unk['plant_name_ferc1'] == i]['fuel_avg_heat']\n",
    "        ))\n",
    "    # Turn the median values into ranges based on 10% buffer\n",
    "    for k,v in fuel_dict.items():\n",
    "        for kk,vv in v.items():\n",
    "            v[kk] = range(int(vv-vv*0.1), int(vv+vv*0.1))\n",
    "    #print(fuel_dict)\n",
    "    return fuel_dict\n",
    "\n",
    "def update_df(df):    \n",
    "    f_dict = create_dict(df)\n",
    "    for k,v in f_dict.items():\n",
    "        dd = df.loc[df['plant_name_ferc1']==k]\n",
    "        df['new_fuel'].update(dd['fuel_avg_heat'].apply(lambda x: next((kk for kk,vv in v.items() if x in vv), np.nan)))\n",
    "    return df"
   ]
  },
  {
   "cell_type": "code",
   "execution_count": 1273,
   "id": "micro-sound",
   "metadata": {},
   "outputs": [],
   "source": [
    "steam_better_fuel_infer = update_df(steam_better_fuel_infer)\n",
    "\n",
    "# Add flag\n",
    "steam_better_fuel_infer.loc[\n",
    "    (steam_better_fuel_infer.primary_fuel.isna()) \n",
    "    & (steam_better_fuel_infer.new_fuel.notna()), \n",
    "    'primary_fuel_flag'] = 'fuel_ferc1 infer from heat content of years'\n",
    "\n",
    "steam_better_fuel_infer['primary_fuel'].update(steam_better_fuel_infer['new_fuel'])"
   ]
  },
  {
   "cell_type": "code",
   "execution_count": 1274,
   "id": "polish-lucas",
   "metadata": {},
   "outputs": [
    {
     "name": "stdout",
     "output_type": "stream",
     "text": [
      "rows with no fuel / total rows\n",
      "2475 / 29270\n"
     ]
    }
   ],
   "source": [
    "print('rows with no fuel / total rows')\n",
    "print(len(steam_better_fuel_infer[steam_better_fuel_infer['primary_fuel'].isna()]), '/', len(steam_better_fuel))"
   ]
  },
  {
   "cell_type": "code",
   "execution_count": 951,
   "id": "every-reservation",
   "metadata": {},
   "outputs": [],
   "source": [
    "#test = steam_better_fuel_infer[steam_better_fuel_infer['plant_name_ferc1'].isin(['beluga', 'gorgas', 'gadsden'])].copy()"
   ]
  },
  {
   "cell_type": "code",
   "execution_count": 1277,
   "id": "median-sunset",
   "metadata": {},
   "outputs": [],
   "source": [
    "steam2 = (\n",
    "    steam_better_fuel_infer[[\n",
    "        'report_year', 'utility_id_ferc1', 'utility_id_pudl',\n",
    "        'plant_id_pudl', 'plant_id_ferc1', 'plant_name_ferc1'] \n",
    "        + ferc_agg_cols + \n",
    "       ['primary_fuel_by_mmbtu', 'primary_fuel_by_cost',\n",
    "        'primary_fuel', 'primary_fuel_flag', 'record_id']].copy()\n",
    ")"
   ]
  },
  {
   "cell_type": "code",
   "execution_count": 1278,
   "id": "junior-pepper",
   "metadata": {
    "jupyter": {
     "source_hidden": true
    }
   },
   "outputs": [
    {
     "name": "stdout",
     "output_type": "stream",
     "text": [
      "rows with no fuel / total rows\n",
      "2475 / 29299\n",
      "percent of total records\n",
      "11.007857874957294\n",
      "percent of total capacity\n",
      "3.757649444177934\n",
      "total plants\n",
      "536\n",
      "total utilities\n",
      "153\n"
     ]
    }
   ],
   "source": [
    "nona = steam_better_fuel_infer[steam_better_fuel_infer['primary_fuel'].notna()]\n",
    "na = steam_better_fuel_infer[steam_better_fuel_infer['primary_fuel'].isna()]\n",
    "\n",
    "print('rows with no fuel / total rows')\n",
    "print(len(steam_better_fuel_infer[steam_better_fuel_infer['primary_fuel'].isna()]), '/', len(steam_better_fuel_infer))\n",
    "\n",
    "print('percent of total records')\n",
    "print(3222/29270*100)\n",
    "cap_full = steam_better_fuel_infer['capacity_mw'].sum()\n",
    "cap_na = steam_better_fuel_infer[steam_better_fuel_infer['primary_fuel'].isna()]['capacity_mw'].sum()\n",
    "\n",
    "print('percent of total capacity')\n",
    "print(cap_na/cap_full*100)\n",
    "\n",
    "print('total plants')\n",
    "print(len(na['plant_id_pudl'].unique()))\n",
    "\n",
    "print('total utilities')\n",
    "print(len(na['utility_id_pudl'].unique()))"
   ]
  },
  {
   "cell_type": "code",
   "execution_count": 137,
   "id": "enabling-columbus",
   "metadata": {
    "collapsed": true,
    "jupyter": {
     "outputs_hidden": true,
     "source_hidden": true
    }
   },
   "outputs": [
    {
     "data": {
      "text/html": [
       "<div>\n",
       "<style scoped>\n",
       "    .dataframe tbody tr th:only-of-type {\n",
       "        vertical-align: middle;\n",
       "    }\n",
       "\n",
       "    .dataframe tbody tr th {\n",
       "        vertical-align: top;\n",
       "    }\n",
       "\n",
       "    .dataframe thead th {\n",
       "        text-align: right;\n",
       "    }\n",
       "</style>\n",
       "<table border=\"1\" class=\"dataframe\">\n",
       "  <thead>\n",
       "    <tr style=\"text-align: right;\">\n",
       "      <th></th>\n",
       "      <th>report_year</th>\n",
       "      <th>plant_id_pudl</th>\n",
       "      <th>primary_fuel_by_mmbtu</th>\n",
       "      <th>primary_fuel_type_eia</th>\n",
       "      <th>diff</th>\n",
       "    </tr>\n",
       "  </thead>\n",
       "  <tbody>\n",
       "    <tr>\n",
       "      <th>245</th>\n",
       "      <td>2013</td>\n",
       "      <td>206</td>\n",
       "      <td>gas</td>\n",
       "      <td>coal</td>\n",
       "      <td>True</td>\n",
       "    </tr>\n",
       "    <tr>\n",
       "      <th>249</th>\n",
       "      <td>2017</td>\n",
       "      <td>206</td>\n",
       "      <td></td>\n",
       "      <td>gas</td>\n",
       "      <td>True</td>\n",
       "    </tr>\n",
       "    <tr>\n",
       "      <th>250</th>\n",
       "      <td>2018</td>\n",
       "      <td>206</td>\n",
       "      <td></td>\n",
       "      <td>gas</td>\n",
       "      <td>True</td>\n",
       "    </tr>\n",
       "    <tr>\n",
       "      <th>251</th>\n",
       "      <td>2019</td>\n",
       "      <td>206</td>\n",
       "      <td></td>\n",
       "      <td>gas</td>\n",
       "      <td>True</td>\n",
       "    </tr>\n",
       "    <tr>\n",
       "      <th>277</th>\n",
       "      <td>2009</td>\n",
       "      <td>32</td>\n",
       "      <td></td>\n",
       "      <td>coal</td>\n",
       "      <td>True</td>\n",
       "    </tr>\n",
       "    <tr>\n",
       "      <th>...</th>\n",
       "      <td>...</td>\n",
       "      <td>...</td>\n",
       "      <td>...</td>\n",
       "      <td>...</td>\n",
       "      <td>...</td>\n",
       "    </tr>\n",
       "    <tr>\n",
       "      <th>28958</th>\n",
       "      <td>2015</td>\n",
       "      <td>517</td>\n",
       "      <td>gas</td>\n",
       "      <td>waste</td>\n",
       "      <td>True</td>\n",
       "    </tr>\n",
       "    <tr>\n",
       "      <th>28959</th>\n",
       "      <td>2016</td>\n",
       "      <td>517</td>\n",
       "      <td>gas</td>\n",
       "      <td>waste</td>\n",
       "      <td>True</td>\n",
       "    </tr>\n",
       "    <tr>\n",
       "      <th>28960</th>\n",
       "      <td>2017</td>\n",
       "      <td>517</td>\n",
       "      <td>gas</td>\n",
       "      <td>waste</td>\n",
       "      <td>True</td>\n",
       "    </tr>\n",
       "    <tr>\n",
       "      <th>28961</th>\n",
       "      <td>2018</td>\n",
       "      <td>517</td>\n",
       "      <td>gas</td>\n",
       "      <td>waste</td>\n",
       "      <td>True</td>\n",
       "    </tr>\n",
       "    <tr>\n",
       "      <th>28962</th>\n",
       "      <td>2019</td>\n",
       "      <td>517</td>\n",
       "      <td>gas</td>\n",
       "      <td>waste</td>\n",
       "      <td>True</td>\n",
       "    </tr>\n",
       "  </tbody>\n",
       "</table>\n",
       "<p>927 rows × 5 columns</p>\n",
       "</div>"
      ],
      "text/plain": [
       "       report_year  plant_id_pudl primary_fuel_by_mmbtu primary_fuel_type_eia  \\\n",
       "245           2013            206                   gas                  coal   \n",
       "249           2017            206                                         gas   \n",
       "250           2018            206                                         gas   \n",
       "251           2019            206                                         gas   \n",
       "277           2009             32                                        coal   \n",
       "...            ...            ...                   ...                   ...   \n",
       "28958         2015            517                   gas                 waste   \n",
       "28959         2016            517                   gas                 waste   \n",
       "28960         2017            517                   gas                 waste   \n",
       "28961         2018            517                   gas                 waste   \n",
       "28962         2019            517                   gas                 waste   \n",
       "\n",
       "       diff  \n",
       "245    True  \n",
       "249    True  \n",
       "250    True  \n",
       "251    True  \n",
       "277    True  \n",
       "...     ...  \n",
       "28958  True  \n",
       "28959  True  \n",
       "28960  True  \n",
       "28961  True  \n",
       "28962  True  \n",
       "\n",
       "[927 rows x 5 columns]"
      ]
     },
     "execution_count": 137,
     "metadata": {},
     "output_type": "execute_result"
    }
   ],
   "source": [
    "# Cases where EIA and FERC fuel type don't match up perfectly \n",
    "test = steam_better_fuel[['report_year', 'plant_id_pudl', 'primary_fuel_by_mmbtu']]\n",
    "tt = pd.merge(test, net_gen_fuel_50, on=['report_year', 'plant_id_pudl'], how='outer')\n",
    "dd = tt[(tt['primary_fuel_type_eia'].notna()) & (tt['primary_fuel_by_mmbtu'].notna())].copy()\n",
    "dd['diff'] = dd['primary_fuel_type_eia'] != dd['primary_fuel_by_mmbtu'].copy()\n",
    "dl = dd[dd['diff']==True]\n",
    "dl"
   ]
  },
  {
   "cell_type": "markdown",
   "id": "lasting-karaoke",
   "metadata": {},
   "source": [
    "#### Things to do still: \n",
    "- historic back-filling\n",
    "- [x] check fuel table transform to see if any values are dropped / changed\n",
    "- add old eia923 years\n",
    "- [x] look at Jon's detailed list of changes to fill these"
   ]
  },
  {
   "cell_type": "markdown",
   "id": "pregnant-liver",
   "metadata": {},
   "source": [
    "## **Step 2:** Create flags for rows that represent TOTALS\n",
    "Create flag columns for the steam table that notes which rows should be included when aggregating different data fields for each utility. These fields are: capacity, generation, number of employees, original cost, operation expenses.\n",
    "\n",
    "\n",
    "The plan is to develop a flag to note whether a line is the whole plant or the owned portion\n",
    "\n",
    "**Flags:**\n",
    "- utility owned total\n",
    "- unit total\n",
    "- plant total\n",
    "- combustion turbine extra"
   ]
  },
  {
   "cell_type": "markdown",
   "id": "searching-season",
   "metadata": {},
   "source": [
    "### Functions"
   ]
  },
  {
   "cell_type": "code",
   "execution_count": 975,
   "id": "incredible-poison",
   "metadata": {
    "jupyter": {
     "source_hidden": true
    }
   },
   "outputs": [],
   "source": [
    "def flag_totals(steam_table):\n",
    "    \"\"\"Preliminarily mark the rows with total indicated in the plant name.\"\"\"\n",
    "    regex1 = r'(?i)tot[a-z]*' # Find anything that would resembles TOTAL in the plant name\n",
    "    regex2 = '100%' # Find all names with 100% in them\n",
    "    regex3 = 'ttl ' # the space at the end is important\n",
    "    regex4 = r'\\(all' # find any names with '(all' in them\n",
    "    \n",
    "    steam_table['total'] = steam_table['plant_name_ferc1'].str.contains('|'.join([regex1, regex2, regex3, regex4]))\n",
    "    ser_no_octo = steam_table[steam_table['plant_name_ferc1'].str.contains('octotillo')].total == False\n",
    "    steam_table['total'].update(ser_no_octo) # remove octotillio from total = True because it accidentally fits in the 'tot' regex\n",
    "    \n",
    "    return steam_table"
   ]
  },
  {
   "cell_type": "code",
   "execution_count": 976,
   "id": "proud-smith",
   "metadata": {
    "jupyter": {
     "source_hidden": true
    }
   },
   "outputs": [],
   "source": [
    "def flag_plant_totals(df, col_name):\n",
    "    \n",
    "    def is_plant_total(row):\n",
    "        if 'total plant' in row:\n",
    "            return 'plant total'\n",
    "        elif 'plant total' in row:\n",
    "            return 'plant total'\n",
    "        elif 'total plt' in row:\n",
    "            return 'plant total'\n",
    "        elif 'ttl plt' in row:\n",
    "            return 'plant total'\n",
    "        elif 'tot. plt.' in row:\n",
    "            return 'plant total'\n",
    "        elif '100%' in row:\n",
    "            return 'plant total'\n",
    "        else:\n",
    "            return None\n",
    "    \n",
    "    df[col_name] = df.apply(lambda x: is_plant_total(x.plant_name_ferc1), axis=1)\n",
    "    \n",
    "    return df"
   ]
  },
  {
   "cell_type": "code",
   "execution_count": 977,
   "id": "fourth-surrey",
   "metadata": {
    "jupyter": {
     "source_hidden": true
    }
   },
   "outputs": [],
   "source": [
    "def backfill_years_by_capacity(df, col_name, replace, replace_with):\n",
    "    \"\"\"Backfill rows based on capacity.\"\"\"\n",
    "    \n",
    "    only_totals_df = df[df[col_name]==replace_with]\n",
    "    plant_groups = only_totals_df.groupby('plant_id_pudl')\n",
    "    capacity_dict = plant_groups['capacity_mw'].apply(lambda x: [x for x in list(x.unique()) if x !=0]).to_dict() # no zeros\n",
    "    plants_with_totals_list = list(capacity_dict.keys())\n",
    "    \n",
    "    for plant_id in plants_with_totals_list:\n",
    "        for capacity in capacity_dict[plant_id]:\n",
    "            one_plant_df = df[df['plant_id_pudl']==plant_id].copy()\n",
    "            cap_match_df = one_plant_df[one_plant_df['capacity_mw'].isin(capacity_dict[plant_id])]\n",
    "            series_update = cap_match_df[col_name].replace({replace: replace_with})\n",
    "            df[col_name].update(series_update) \n",
    "            \n",
    "    return df"
   ]
  },
  {
   "cell_type": "code",
   "execution_count": 978,
   "id": "hindu-calcium",
   "metadata": {
    "jupyter": {
     "source_hidden": true
    }
   },
   "outputs": [],
   "source": [
    "def categorize_bad_rows(df, f_list): # could probably make this faster...\n",
    "    \"\"\"Flag bad rows.\"\"\"\n",
    "    for fix_dict in f_list:\n",
    "        for year in fix_dict['years']:\n",
    "            df.loc[df['record_id']==f\"f1_steam_{year}{fix_dict['id_suffix']}\", 'total_type'] = fix_dict['total_type']\n",
    "    \n",
    "    return df"
   ]
  },
  {
   "cell_type": "code",
   "execution_count": 979,
   "id": "moral-clear",
   "metadata": {
    "jupyter": {
     "source_hidden": true
    }
   },
   "outputs": [],
   "source": [
    "# Fix-a-dic\n",
    "# need to append ferc1_steam_YEAR_id_suffix\n",
    "# categories:\n",
    "# - plant total\n",
    "# - unit total\n",
    "# - utility owned total\n",
    "# - combustion turbine extra\n",
    "\n",
    "fix_list = [\n",
    "    # Rockport AEP\n",
    "    {'id_suffix': '_12_1_0_3', 'total_type': 'utility owned total', 'years': range(1994,2020)}, #pudl id 530\n",
    "    # Rockport IMP\n",
    "    {'id_suffix': '_12_73_1_3', 'total_type': 'utility owned total', 'years': range(1994,1997)}, #pudl id 530\n",
    "    {'id_suffix': '_12_73_0_3', 'total_type': 'utility owned total', 'years': range(1997,2020)}, # pudl id 530\n",
    "    # Amos APC\n",
    "    {'id_suffix': '_12_6_0_3', 'total_type': 'plant total', 'years': range(1994,2002)}, #pudl id 16\n",
    "    # Conesville 4 - Columbus Southern Power Company then Ohio Power Company then AEP\n",
    "    {'id_suffix': '_12_31_0_3', 'total_type': 'unit total', 'years': range(1994,2011)}, # pudl id 128\n",
    "    {'id_suffix': '_12_127_4_1', 'total_type': 'unit total', 'years': range(2011,2014)}, # pudl id 128\n",
    "    {'id_suffix': '_12_452_1_2', 'total_type': 'unit total', 'years': range(2014,2015)}, # pudl id 128\n",
    "    # Conesville 4 - Duke \n",
    "    {'id_suffix': '_12_27_1_3', 'total_type': 'unit total', 'years': range(1994,2003)}, # pudl if 128  # was plant total\n",
    "    # Belle River - DTE\n",
    "    {'id_suffix': '_12_44_0_1', 'total_type': 'utility owned total', 'years': range(1994, 2020)}, # pudl id 44  # also plant total, doesn't add up first year\n",
    "    # Mitchell - Kentucky Power\n",
    "    {'id_suffix': '_12_81_0_3', 'total_type': 'plant total', 'years': range(2014,2020)}, # pudl id 382  \n",
    "    # Mitchell - AEP then Wheeling Power\n",
    "    {'id_suffix': '_12_452_3_3', 'total_type': 'plant total', 'years': range(2014,2015)}, # pudl id 382\n",
    "    {'id_suffix': '_12_192_0_2', 'total_type': 'plant total', 'years': range(2015,2020)}, # pudl id 382\n",
    "    # Iatan 1 - Kansas City Power and Light\n",
    "    {'id_suffix': '_12_79_1_1', 'total_type': 'unit total', 'years': range(2010,2020)}, # pudl id 295  # was plant total\n",
    "    # Iatan 2 - Kansas Ciry Power and Light\n",
    "    {'id_suffix': '_12_79_1_3', 'total_type': 'unit total', 'years': range(2010,2020)}, # pudl id 295  # was plant total\n",
    "    # La Cygne - Kansas  \n",
    "    #{'id_suffix': '_12_80_0_3', 'total_type': 'plant total', 'years': range(1994,2010)}, # pudl id 336  # very weird, nums don't add up\n",
    "    # Jeffrey - Kansas Gas and Electric\n",
    "    {'id_suffix': '_12_80_1_1', 'total_type': 'plant total', 'years': range(1994,1995)}, # pudl id 307\n",
    "    {'id_suffix': '_12_80_1_3', 'total_type': 'plant total', 'years': range(1995,2002)}, # pudl id 307\n",
    "    {'id_suffix': '_12_80_1_1', 'total_type': 'plant total', 'years': range(2002,2010)},\n",
    "    # Jeffrey - Westar Energy\n",
    "    {'id_suffix': '_12_191_1_4', 'total_type': 'plant total', 'years': range(1994,1995)}, # pudl id 307\n",
    "    {'id_suffix': '_12_191_1_5', 'total_type': 'plant total', 'years': range(1995,2005)}, # pudl id 307\n",
    "    {'id_suffix': '_12_191_1_3', 'total_type': 'plant total', 'years': range(2005,2006)}, # pudl id 307\n",
    "    {'id_suffix': '_12_191_1_5', 'total_type': 'plant total', 'years': range(2006,2010)}, # pudl id 307\n",
    "    # JM Stuart - Duke Energy\n",
    "    {'id_suffix': '_12_27_1_1', 'total_type': 'plant total', 'years': range(1994,2003)}, # pudl id 288\n",
    "    # JM Stuart - Dayton Power and Light\n",
    "    {'id_suffix': '_12_42_2_1', 'total_type': 'plant total', 'years': range(1994,1998)}, # pudl id 288\n",
    "    {'id_suffix': '_12_42_1_1', 'total_type': 'plant total', 'years': range(1998,2001)}, # pudl id 288\n",
    "    # Valley - Wisconsin Power and Electric\n",
    "    {'id_suffix': '_12_193_0_3', 'total_type': 'utility owned total', 'years': range(1994,1996)}, # pudl id 603  # could also be plant total\n",
    "    # Pt. Wash - Wisconsin Electric Power\n",
    "    {'id_suffix': '_12_193_1_4', 'total_type': 'utility owned total', 'years': range(1994,1996)}, # pudl id 470  # other weird value -- see below\n",
    "    # Pt. Wash (gas) - Wisconsin Electric Power\n",
    "    {'id_suffix': '_12_193_7_1', 'total_type': 'combustion turbine extra', 'years': range(1994,1996)}, # pudl id 470\n",
    "    {'id_suffix': '_12_193_1_3', 'total_type': 'combustion turbine extra', 'years': range(1996,2004)}, # pudl id 470  # 2004 might not be right -- confusing\n",
    "    \n",
    "    {'id_suffix': '_12_193_3_4', 'total_type': 'utility owned total', 'years': range(1994,1996)}, # pudl id 469  # also plant total\n",
    "    \n",
    "    {'id_suffix': '_12_193_4_4', 'total_type': 'utility owned total', 'years': range(1994,1996)}, # pudl id 542  # also plant total\n",
    "    {'id_suffix': '_12_193_0_4', 'total_type': 'utility owned total', 'years': range(1996,2008)}, # has 1 unit only here on...\n",
    "    {'id_suffix': '_12_193_1_3', 'total_type': 'utility owned total', 'years': range(2008,2015)}, # pudl id 542  # technically becomes just one row in 2010\n",
    "    \n",
    "    {'id_suffix': '_12_193_5_2', 'total_type': 'utility owned total', 'years': range(1994,1996)}, # pudl id 1216 # also plant total\n",
    "    {'id_suffix': '_12_193_0_5', 'total_type': 'utility owned total', 'years': range(1996,2008)}, # pudl id 1216 # has 1 unit only\n",
    "    \n",
    "    {'id_suffix': '_12_193_5_5', 'total_type': 'utility owned total', 'years': range(1994,1996)}, # pudl id 458 # also plant total\n",
    "    \n",
    "    {'id_suffix': '_12_193_6_5', 'total_type': 'utility owned total', 'years': range(1994,1996)}, # pudl id 216  # also plant total\n",
    "    \n",
    "    {'id_suffix': '12_193_8_4', 'total_type': 'utility owned total', 'years': range(1994,1996)}, # pudl id 127  # also plant total\n",
    "    \n",
    "    {'id_suffix': '_12_194_0_4', 'total_type': 'unit total', 'years': range(1994,2012)}, # pudl id 123  # was labeled plant total b/c of 100%\n",
    "    {'id_suffix': '_12_194_0_1', 'total_type': 'unit total', 'years': range(2012,)}, # pudl id 123\n",
    "    \n",
    "    {'id_suffix': '_12_194_0_5', 'total_type': 'unit total', 'years': range(1994,2012)}, # pudl id 123  # was labeled plant total b/c of 100%\n",
    "    {'id_suffix': '_12_194_0_2', 'total_type': 'unit total', 'years': range(2012,)}, # pudl id 123\n",
    "    \n",
    "    {'id_suffix': '_12_194_2_3', 'total_type': 'utility owned total', 'years': range(1994,1998)}, # pudl id 123 \n",
    "    {'id_suffix': '_12_194_1_4', 'total_type': 'utility owned total', 'years': range(1998,2012)}, # pudl id 123  # continuation of before 2_3 to 1_4\n",
    "    {'id_suffix': '_12_194_1_1', 'total_type': 'utility owned total', 'years': range(2012,2014)}, # pudl id 123 \n",
    "    \n",
    "    {'id_suffix': '_12_89_1_5', 'total_type': 'utility owned total', 'years': range(1994,1998)},# pudl id 123\n",
    "    {'id_suffix': '_12_89_1_3', 'total_type': 'utility owned total', 'years': range(1998,2002)}, # pudl id 123  # continuation of before 1_5 to 1_3\n",
    "    {'id_suffix': '_12_89_1_5', 'total_type': 'utility owned total', 'years': range(2002,2007)}, # pudl id 123  # record id went back from 1_3 to 1_5\n",
    "    {'id_suffix': '_12_89_0_4', 'total_type': 'utility owned total', 'years': range(2007,2008)}, # pudl id 123  # 1_5 to 0_4\n",
    "    {'id_suffix': '_12_89_0_5', 'total_type': 'utility owned total', 'years': range(2008,2009)}, # pudl id 123  # 0_4 to 0_5\n",
    "    {'id_suffix': '_12_89_1_4', 'total_type': 'utility owned total', 'years': range(2010,2012)}, # pudl id 123  # 0_5 to 1_4\n",
    "    {'id_suffix': '_12_89_0_5', 'total_type': 'utility owned total', 'years': range(2012,2014)}, # pudl id 123\n",
    "    {'id_suffix': '_12_89_1_4', 'total_type': 'utility owned total', 'years': range(2014,2015)}, # pudl id 123\n",
    "    {'id_suffix': '_12_89_1_5', 'total_type': 'utility owned total', 'years': range(2015,2016)}, # pudl id 123\n",
    "    {'id_suffix': '_12_89_0_5', 'total_type': 'utility owned total', 'years': range(2016,2019)}, # pudl id 123\n",
    "    {'id_suffix': '_12_89_0_4', 'total_type': 'utility owned total', 'years': range(2019,2020)}, # pudl id 123\n",
    "    \n",
    "    {'id_suffix': '_12_194_2_5', 'total_type': 'unit total', 'years': range(1994,1998)}, # pudl id 171  # was plant total\n",
    "    {'id_suffix': '_12_194_2_1', 'total_type': 'unit total', 'years': range(1998,2012)}, # pudl id 171\n",
    "    {'id_suffix': '_12_194_1_3', 'total_type': 'unit total', 'years': range(2012,2014)}, # pudl id 171\n",
    "    {'id_suffix': '_12_194_1_1', 'total_type': 'unit total', 'years': range(2014,2016)}, # pudl id 171\n",
    "    {'id_suffix': '_12_194_0_5', 'total_type': 'unit total', 'years': range(2016,2019)}, # pudl id 171\n",
    "    \n",
    "    {'id_suffix': '_12_194_3_4', 'total_type': 'unit total', 'years': range(1994,1998)}, # pudl id 171  # contains unit-1, was plant total\n",
    "    {'id_suffix': '_12_194_2_3', 'total_type': 'unit total', 'years': range(1998,2012)}, # pudl id 171\n",
    "    {'id_suffix': '_12_194_1_5', 'total_type': None, 'years': range(2012,2014)}, # pudl id 171 -- was 2_3 but now 1_5 and owned by one utility   \n",
    "    \n",
    "    {'id_suffix': '_12_134_0_5', 'total_type': 'utility owned total', 'years': range(1994,2001)}, # pudl id 281  # also plant total\n",
    "    {'id_suffix': '_12_134_1_5', 'total_type': 'utility owned total', 'years': range(2001,2016)},\n",
    "    {'id_suffix': '_12_134_1_4', 'total_type': 'utility owned total', 'years': range(2016,2020)},\n",
    "    \n",
    "    {'id_suffix': '_12_138_0_5', 'total_type': 'utility owned total', 'years': range(1994,)}, # pudl id 2281  # also plant total\n",
    "    \n",
    "    {'id_suffix': '_12_138_2_3', 'total_type': 'combustion turbine extra', 'years': range(1994,1997)}, # pudl id 2281  # pause for 2 years\n",
    "    {'id_suffix': '_12_138_4_1', 'total_type': 'combustion turbine extra', 'years': range(1999,2000)}, # pudl id 2281\n",
    "    {'id_suffix': '_12_138_2_3', 'total_type': 'combustion turbine extra', 'years': range(2000,2001)}, # pudl id 2281\n",
    "\n",
    "    {'id_suffix': '_12_195_1_5', 'total_type': 'utility owned total', 'years': range(1994,2008)}, # pudl id 503  # was plant total, is also technically plant total...\n",
    "    {'id_suffix': '_12_195_1_3', 'total_type': 'utility owned total', 'years': range(2008,2011)}, # pudl id 503\n",
    "    {'id_suffix': '_12_195_1_1', 'total_type': 'utility owned total', 'years': range(2011,2019)}, # pudl id 503\n",
    "   \n",
    "    {'id_suffix': '_12_195_3_4', 'total_type': 'utility owned total', 'years': range(1994,2011)}, # pudl id 473  # was plant total, might also be plant total\n",
    "    {'id_suffix': '_12_195_2_3', 'total_type': 'utility owned total', 'years': range(2011,2018)}, # pudl id 473\n",
    "    {'id_suffix': '_12_195_2_2', 'total_type': 'utility owned total', 'years': range(2018,2019)}, # pudl id 473 # but there is wierdness with the w31 and w32\n",
    "    \n",
    "    {'id_suffix': '_12_195_2_5', 'total_type': 'unit total', 'years': range(2008,2011)}, # pudl id 473\n",
    "    {'id_suffix': '_12_195_2_1', 'total_type': 'unit total', 'years': range(2011,2018)}, # pudl id 473\n",
    "    \n",
    "    {'id_suffix': '_12_195_3_5', 'total_type': 'plant total', 'years': range(1994,2006)}, # pudl id 1166\n",
    "    \n",
    "    {'id_suffix': '_12_195_5_5', 'total_type': 'unit total', 'years': range(2004,2006)}, # pudl id 343\n",
    "    {'id_suffix': '_12_195_5_3', 'total_type': 'unit total', 'years': range(2006,2011)}, # pudl id 343\n",
    "    {'id_suffix': '_12_195_3_3', 'total_type': 'plant total', 'years': range(2018,2019)}, # pudl id 343\n",
    "\n",
    "    {'id_suffix': '_12_57_5_1', 'total_type': 'utility owned total', 'years': range(1994,1995)}, # pudl id 661  # was plant total  # doesn't add up\n",
    "    {'id_suffix': '_12_57_4_1', 'total_type': 'utility owned total', 'years': range(1995,1998)}, # pudl id 661  # skips a year\n",
    "    {'id_suffix': '_12_57_4_1', 'total_type': 'utility owned total', 'years': range(1999,2009)}, # pudl id 661\n",
    "\n",
    "    {'id_suffix': '_12_57_5_3', 'total_type': 'utility owned total', 'years': range(1994,1995)}, # pudl id 257  # was plant total\n",
    "    {'id_suffix': '_12_57_5_1', 'total_type': 'utility owned total', 'years': range(1995,2009)}, # pudl id 257  # doesn't add up\n",
    "\n",
    "    {'id_suffix': '_12_193_9_4', 'total_type': 'utility owned total', 'years': range(1995,1996)}, # pudl id 443\n",
    "\n",
    "    {'id_suffix': '_12_281_0_2', 'total_type': 'utility owned total', 'years': range(2002,2007)}, # pudl id 1110  # was plant total and maybe is\n",
    "\n",
    "    {'id_suffix': '_12_89_2_5', 'total_type': 'utility owned total', 'years': range(2011,2019)},\n",
    "    {'id_suffix': '_12_89_1_2', 'total_type': 'utility owned total', 'years': range(2019,2020)},\n",
    "]\n",
    "\n",
    "# pudl id 336 unclear which is the total\n",
    "# pudl id 652 is fishy and kind of seems like a duplicate?\n",
    "# pudl id 40 needs some attention....\n",
    "# pudl id 410 unsure role of cge\n",
    "# pudl id 167 unsure role of cge\n",
    "# pudl id 316 unsure role of cge\n",
    "# pudl id 611 unsure role of cge\n",
    "# pudl id 470 in 2008 two totals?\n",
    "# pudl id 363 gets confusing around 2008 \n",
    "# pudl id 281 unt 2 in year 1999 might get double counted\n",
    "# pudl id 1209 components don't add up\n",
    "# pudl id 503 pulliam-common? with capcity 0 and in ~2004 pulliam 31 shows up\n",
    "# pudl id 473 has \"communal\" row as well and in ~1997 w31, w32\n",
    "# pudl id 661 is confusing which values are which\n",
    "# pudl id 529 doesn't add up\n",
    "# pudl id 610 confused by what this 100% ownership thing is...\n",
    "# pudl id 90 confusing\n",
    "# pudl id 183 confusing total value in 2011"
   ]
  },
  {
   "cell_type": "code",
   "execution_count": 980,
   "id": "satellite-slovak",
   "metadata": {
    "jupyter": {
     "source_hidden": true
    }
   },
   "outputs": [],
   "source": [
    "def compare_totals(flag_df, comp_col):\n",
    "    \"\"\"Sum non-total utility-plant reported values and compare to reported totals when applicable.\n",
    "    \n",
    "    This function takes in a DataFrame and calculates the sum value for both the plant and utility-plant\n",
    "    groups on an annual basis and compares them with any reported totals. First, this function calculates\n",
    "    group totals by excluding any rows flagged as totals or extraneous in the total_types row (i.e.:\n",
    "    total_type.isna()). Then, it separates the DataFrame into two small DataFrames representing all\n",
    "    the utility owned total rows and all of the plant total rows reported and flagged. Next, it\n",
    "    compares the calculated group total against the reported group total and outputs a True/False\n",
    "    boolean. The boolean flags from these small table comparisons are then subsumed into the larger \n",
    "    DataBase under the column names: utility_owned_total_flag and plant_total_flag.\n",
    "    \n",
    "    These columns will show users where there might be a reporting discrepancy and allows them to\n",
    "    choose which value they might want to reply on for further calculation. This flag is not yet\n",
    "    incorporated into the aggregation function below, but it could be!\n",
    "    \n",
    "    \"\"\"\n",
    "    def sum_no_totals(df, col):\n",
    "        no_totals_df = df.loc[df['total_type'].isna()]\n",
    "        return no_totals_df[col].sum()\n",
    "\n",
    "    # Groupby utility-plant and plant\n",
    "    plant_util_groups = flag_df.groupby(['report_year', 'utility_id_pudl', 'plant_id_pudl'])\n",
    "    plant_groups = flag_df.groupby(['report_year', 'plant_id_pudl'])\n",
    "\n",
    "    # Get the sum of the values in each group that are not totals\n",
    "    plant_util_total_series = plant_util_groups.apply(lambda x: sum_no_totals(x, comp_col))\n",
    "    plant_total_series = plant_groups.apply(lambda x: sum_no_totals(x, comp_col))\n",
    "\n",
    "    # Take that series of sums, reset the index, and give the sum column an informative name\n",
    "    util_plant_df = pd.DataFrame(plant_util_total_series).reset_index().rename(columns={0:'plant_util_total'})\n",
    "    plant_df = pd.DataFrame(plant_total_series).reset_index().rename(columns={0:'plant_total'})\n",
    "\n",
    "    # Merge the two sum columns together on utility-plant\n",
    "    df = pd.merge(plant_df, util_plant_df, on=['report_year', 'plant_id_pudl'], how='outer')\n",
    "    comp_totals = pd.merge(flag_df, df, on=['report_year', 'utility_id_pudl', 'plant_id_pudl'], how='outer')\n",
    "    \n",
    "    # Get slices of the dataframe that represent the utility owned total rows and the plant total rows to compare with calculated totals\n",
    "    util_ot = comp_totals[comp_totals['total_type']=='utility owned total'].copy()\n",
    "    plant_ot = comp_totals[comp_totals['total_type']=='plant total'].copy()\n",
    "\n",
    "    # For each dataframe, flag whether the sum of the components (calculated above) equals the reported total\n",
    "    # Could make this a little more flexible (+/- 1)\n",
    "    util_ot['utility_owned_total_flag'] = np.where(util_ot['capacity_mw'] == util_ot['plant_util_total'], True, False)\n",
    "    plant_ot['plant_total_flag'] = np.where(plant_ot['capacity_mw'] == plant_ot['plant_total'], True, False)\n",
    "    \n",
    "    # Create blank columns in the original dataframe\n",
    "    comp_totals[f'{comp_col}_utility_owned_total_flag'] = None\n",
    "    comp_totals[f'{comp_col}_plant_total_flag'] = None\n",
    "\n",
    "    # Update those blank columns so that the True/False values from the prior calculations are added to the correct column\n",
    "    comp_totals[f'{comp_col}_utility_owned_total_flag'].update(util_ot['utility_owned_total_flag'])\n",
    "    comp_totals[f'{comp_col}_plant_total_flag'].update(plant_ot['plant_total_flag'])\n",
    "\n",
    "    return comp_totals"
   ]
  },
  {
   "cell_type": "markdown",
   "id": "fantastic-rates",
   "metadata": {},
   "source": [
    "### **Step 2.1:** Add a simple totals flag to the steam table"
   ]
  },
  {
   "cell_type": "code",
   "execution_count": 1320,
   "id": "alone-solomon",
   "metadata": {},
   "outputs": [],
   "source": [
    "# Create copy of the steam table with fuel types merged in\n",
    "steam_test = steam2.copy()\n",
    "\n",
    "# Flag bad/total rows\n",
    "flagged_steam = (\n",
    "     steam_test\n",
    "     .pipe(flag_totals)\n",
    "     .pipe(backfill_years_by_capacity, col_name='total', replace=False, replace_with=True)\n",
    "     .pipe(flag_plant_totals, col_name='total_type')\n",
    "     .pipe(backfill_years_by_capacity, col_name='total_type', replace=None, replace_with='plant total')\n",
    "     .pipe(categorize_bad_rows, f_list=fix_list)\n",
    "     .drop('total', axis=1)\n",
    "     .assign(primary_fuel = lambda x: x.primary_fuel.fillna('unknown'))\n",
    ")"
   ]
  },
  {
   "cell_type": "code",
   "execution_count": 1299,
   "id": "burning-corpus",
   "metadata": {},
   "outputs": [],
   "source": [
    "#flagged_steam['primary_fuel'] = flagged_steam['primary_fuel'].replace({'':'unknown', 'other': 'unknown'})"
   ]
  },
  {
   "cell_type": "code",
   "execution_count": 1321,
   "id": "legitimate-melbourne",
   "metadata": {},
   "outputs": [
    {
     "data": {
      "text/plain": [
       "array(['unknown', 'coal', 'gas', 'nuclear', 'oil', 'waste', 'wind',\n",
       "       'solar', 'hydro'], dtype=object)"
      ]
     },
     "execution_count": 1321,
     "metadata": {},
     "output_type": "execute_result"
    }
   ],
   "source": [
    "flagged_steam['primary_fuel'].unique()"
   ]
  },
  {
   "cell_type": "markdown",
   "id": "naked-slovakia",
   "metadata": {},
   "source": [
    "### **Step 2.2 (optional):** Check reported totals against sum of available components\n",
    "For utility-owned plant portions and entire plants"
   ]
  },
  {
   "cell_type": "code",
   "execution_count": 999,
   "id": "daily-necklace",
   "metadata": {},
   "outputs": [],
   "source": [
    "# Compare the reported totals with the sum of the reported components\n",
    "flagged_steam_total_comp = compare_totals(flagged_steam, 'capacity_mw')"
   ]
  },
  {
   "cell_type": "code",
   "execution_count": 1002,
   "id": "novel-windsor",
   "metadata": {},
   "outputs": [
    {
     "name": "stdout",
     "output_type": "stream",
     "text": [
      "53 % of reported utility owned total values differ from the sum of their reported components\n"
     ]
    },
    {
     "data": {
      "text/plain": [
       "array([  44,  542, 1216,  281,  503,  473,  661,  257, 1110,  123])"
      ]
     },
     "execution_count": 1002,
     "metadata": {},
     "output_type": "execute_result"
    }
   ],
   "source": [
    "# Find miss-matching utility owned totals\n",
    "uot = flagged_steam_total_comp[flagged_steam_total_comp['total_type']=='utility owned total']\n",
    "uot_bad = uot[uot['capacity_mw_utility_owned_total_flag']==False]\n",
    "print(int((len(uot_bad)/len(uot)*100)),'% of reported utility owned total values differ from the sum of their reported components')\n",
    "uot_bad['plant_id_pudl'].unique()"
   ]
  },
  {
   "cell_type": "code",
   "execution_count": 1003,
   "id": "surgical-paraguay",
   "metadata": {},
   "outputs": [
    {
     "name": "stdout",
     "output_type": "stream",
     "text": [
      "64 % of reported plant total values differ from the sum of their reported components\n"
     ]
    },
    {
     "data": {
      "text/plain": [
       "array([  16,  450,  288, 1087,  295,  307,  652, 1665,  123, 1209, 1166,\n",
       "        529,  610,  473,  343,  336])"
      ]
     },
     "execution_count": 1003,
     "metadata": {},
     "output_type": "execute_result"
    }
   ],
   "source": [
    "# Find miss-matching plant totals\n",
    "pt = flagged_steam_total_comp[flagged_steam_total_comp['total_type']=='plant total']\n",
    "pt_bad = pt[pt['capacity_mw_plant_total_flag']==False]\n",
    "print(int(len(pt_bad)/len(pt)*100),'% of reported plant total values differ from the sum of their reported components')\n",
    "pt_bad['plant_id_pudl'].unique()"
   ]
  },
  {
   "cell_type": "code",
   "execution_count": null,
   "id": "conceptual-involvement",
   "metadata": {},
   "outputs": [],
   "source": []
  },
  {
   "cell_type": "markdown",
   "id": "superior-going",
   "metadata": {},
   "source": [
    "### **Step 2.3:** Custom aggregation based on the presense of nulls and/or totals rows\n",
    "Most of the time the total rows are excluded. Sometimes, however, they provide valuable information we might want to use in the aggregation of certain columns.\n",
    "\n",
    "The fields we'd like to aggregate on are: \n",
    "- capacity_mw\n",
    "- net_generation_mwh\n",
    "- avg_num_employees\n",
    "- **original cost:** capex_land, capex_equipment, capex_structures, capex_total, asset_retirement_cost\n",
    "- **operational expenses:** opex_operations, opex_fuel, opex_coolants, opex_steam, opex_steam_other, opex_transfer, opex_electric, opex_misc_power, opex_rents, opex_allowances, opex_engineering, opex_structures, opex_boiler, opex_plants, opex_misc_steam, opex_production_total."
   ]
  },
  {
   "cell_type": "code",
   "execution_count": 1322,
   "id": "novel-discretion",
   "metadata": {},
   "outputs": [],
   "source": [
    "agg_fields = [\n",
    "    'capacity_mw', \n",
    "    'net_generation_mwh',\n",
    "    'avg_num_employees',\n",
    "    'capex_land',\n",
    "    'capex_equipment',\n",
    "    'capex_structures',\n",
    "    'capex_total',\n",
    "    'asset_retirement_cost',\n",
    "    'opex_misc_power',\n",
    "    'opex_rents',\n",
    "    'opex_allowances',\n",
    "    'opex_engineering',\n",
    "    'opex_structures',\n",
    "    'opex_boiler',\n",
    "    'opex_plants',\n",
    "    'opex_misc_steam',\n",
    "    'opex_production_total'\n",
    "]"
   ]
  },
  {
   "cell_type": "code",
   "execution_count": 1323,
   "id": "ordinary-package",
   "metadata": {
    "jupyter": {
     "source_hidden": true
    }
   },
   "outputs": [],
   "source": [
    "def col_aggregator(flag_df, agg_col):\n",
    "    \"\"\"\n",
    "    Remove total rows from aggregation; use when there are nulls present in non-total rows. \n",
    "    \n",
    "    This function looks at a table grouped by year, utility, and plant and determines whether to use any of the\n",
    "    information from the total rows in an aggregation based on the column agg_col specified as a parameter.\n",
    "    If there are no total rows, this function simply takes the sum of each group. If there are totals rows, \n",
    "    this function first looks to see if there is a utility owned total reported and then looks to see if there is\n",
    "    a plant total reported.\n",
    "    \n",
    "    If the aggregation must resort to using a total row, a flag is created and returned alongside the aggregated value.\n",
    "    These values will later get split apart and set as seperate columns (in the build_col_agg_df function).\n",
    "    \n",
    "    Args: \n",
    "        df (pandas.DataFrame): A flagged version of the cleaned ferc1_steam table with the column name 'total_type'\n",
    "            specifying wither it is a utility owned total, unit total, or plant total.\n",
    "        agg_col (str): The name of the column you'd like to aggregate by.\n",
    "    \n",
    "    \"\"\"\n",
    "    if flag_df.loc[flag_df['total_type'].isna()][agg_col].notna().all() & len(flag_df.loc[flag_df['total_type'].isna()]) > 0: \n",
    "            flag = None\n",
    "            agg_value = flag_df.loc[flag_df['total_type'].isna()][agg_col].sum()\n",
    "            return [agg_value, flag]\n",
    "    else:\n",
    "        if flag_df['total_type'].str.contains('utility owned total').any() & flag_df.loc[flag_df['total_type']=='utility owned total'][agg_col].notna().all():\n",
    "            flag = 'used utility owned total'\n",
    "            agg_value = flag_df.loc[flag_df['total_type']=='utility owned total'][agg_col].unique()[0]\n",
    "            return [agg_value, flag]\n",
    "        elif flag_df['total_type'].str.contains('plant total').any() & flag_df.loc[flag_df['total_type']=='plant total'][agg_col].notna().all():\n",
    "            flag = 'used plant total pertains to more than one utility'\n",
    "            agg_value = flag_df.loc[flag_df['total_type']=='plant total'][agg_col].unique()[0]\n",
    "            return [agg_value, flag]\n",
    "        elif flag_df.loc[flag_df['total_type'].isna()][agg_col].isna().all():\n",
    "            flag = None\n",
    "            agg_value = np.nan\n",
    "            return [agg_value, flag]\n",
    "        else:\n",
    "            flag = 'aggregated with some null values'\n",
    "            agg_value = flag_df.loc[flag_df['total_type'].isna()][agg_col].sum()\n",
    "            return [agg_value, flag]"
   ]
  },
  {
   "cell_type": "code",
   "execution_count": 1324,
   "id": "global-chicago",
   "metadata": {
    "jupyter": {
     "source_hidden": true
    }
   },
   "outputs": [],
   "source": [
    "def build_col_agg_df(flag_df, agg_col):\n",
    "    \"\"\"Sort by field level.\n",
    "    \n",
    "    This function creates a mini aggregated dataframe based on a column specified in the parameters. \n",
    "    It runs the col_aggregator function so that the aggregations exclude total values unless there are\n",
    "    gaps in the subcomponents--in which case it will first try and use a reported utility total and \n",
    "    then a plant total. The col_aggregator function returns both the aggregated value and flag to\n",
    "    indicate whether it was aggregated based on a value from one of the total rows. This function turns\n",
    "    the value and the flag (returned as a list within one column) to seperate columns.\n",
    "    \n",
    "    These column-based data aggregations can later be merged to form one large data aggregation column.\n",
    "    \n",
    "    Args: \n",
    "        df (pandas.DataFrame): A DataFrame....\n",
    "        agg_col (str): The name of the column you'd like to aggregate by.\n",
    "    Returns:\n",
    "        pandas.DataFrame: A DataFrame with rows selected based on priority.\n",
    "    \n",
    "    \"\"\"\n",
    "\n",
    "    plant_util_group = flag_df.groupby(['report_year', 'utility_id_pudl', 'plant_id_pudl', 'primary_fuel'])\n",
    "    col_agg_series = plant_util_group.apply(lambda x: col_aggregator(x, agg_col))\n",
    "    col_agg_df = pd.DataFrame(col_agg_series).reset_index()\n",
    "    col_agg_df[[agg_col, f'{agg_col}_flag']] = pd.DataFrame(col_agg_df[0].tolist(), index=col_agg_df.index)\n",
    "    col_agg_df = col_agg_df.drop(columns=[0])\n",
    "    \n",
    "    def combine_flags(ser):\n",
    "        if ser.isna().all():\n",
    "            return None\n",
    "        else:\n",
    "            return ', '.join([flag for flag in ser.unique() if flag != None])\n",
    "\n",
    "    #Group by utility and fuel type\n",
    "    util_fuel_df = (\n",
    "        col_agg_df\n",
    "        .groupby(['report_year', 'utility_id_pudl', 'primary_fuel'])\n",
    "        .agg({agg_col: 'sum',\n",
    "              f'{agg_col}_flag': lambda x: combine_flags(x)})\n",
    "        .reset_index()\n",
    "    )\n",
    "    \n",
    "    return util_fuel_df"
   ]
  },
  {
   "cell_type": "code",
   "execution_count": 1325,
   "id": "occasional-deposit",
   "metadata": {},
   "outputs": [],
   "source": [
    "def aggregate_all_columns(df, col_list):\n",
    "    agg_df = pd.DataFrame(columns=['report_year', 'utility_id_pudl', 'primary_fuel'])\n",
    "    for col in col_list:\n",
    "        col_df = build_col_agg_df(df, col)\n",
    "        agg_df = pd.merge(agg_df, col_df, on=['report_year', 'utility_id_pudl', 'primary_fuel'], how='outer')\n",
    "    return agg_df"
   ]
  },
  {
   "cell_type": "code",
   "execution_count": 1326,
   "id": "unavailable-marks",
   "metadata": {},
   "outputs": [],
   "source": [
    "complete_util_agg = aggregate_all_columns(flagged_steam, agg_fields)"
   ]
  },
  {
   "cell_type": "code",
   "execution_count": 1336,
   "id": "jewish-apollo",
   "metadata": {},
   "outputs": [],
   "source": [
    "merge_df.to_excel('/Users/aesharpe/Desktop/flag_comparison.xlsx')"
   ]
  },
  {
   "cell_type": "code",
   "execution_count": 1335,
   "id": "floating-blame",
   "metadata": {},
   "outputs": [],
   "source": [
    "merge_df['primary_fuel'] = merge_df['primary_fuel'].replace({np.nan: 'unknown'})"
   ]
  },
  {
   "cell_type": "code",
   "execution_count": 1330,
   "id": "desirable-county",
   "metadata": {},
   "outputs": [],
   "source": [
    "complete_util_agg.to_excel('/Users/aesharpe/Desktop/FERC1_utility_fuel.xlsx')"
   ]
  },
  {
   "cell_type": "markdown",
   "id": "individual-shore",
   "metadata": {},
   "source": [
    "#### Things to do still: \n",
    "- if use a value from plant total, make it apply to the other utilities that also have a stake in that plant (avg_num_employees is a good example)\n",
    "- if there is a value within 1 of a labeled value in the same plant group, it's probably a total\n",
    "- add more values to the ones that get flagged\n",
    "- check my flagged values against jon's\n",
    "- combine aggregated column dfs into one big df? (but maybe not that necessary/hard\n",
    "- change the way that flags work\n",
    "- figure out what to do with unit totals (whether it's enough to just leave them marked) \n",
    "- figure out what to do with gas plants and other weird extra values\n",
    "- aggregate by utility! That's what the end goal is afterall"
   ]
  },
  {
   "cell_type": "code",
   "execution_count": 1331,
   "id": "first-cargo",
   "metadata": {},
   "outputs": [],
   "source": [
    "# read in Jon's CSV\n",
    "jon_df = pd.read_csv('/Users/aesharpe/Desktop/Work/Catalyst_Coop/RMI/Depreciation/f1_steam_flagged_with_plant_id.csv')\n",
    "steam3 = flagged_steam.copy()\n",
    "\n",
    "jon_df = jon_df[['record_id', 'Flag', 'plant_name', 'report_year', 'plant_id_ferc1']].copy()\n",
    "jon_df['plant_name'] = jon_df.plant_name.str.lower()\n",
    "\n",
    "jon_df['rec'] = jon_df.report_year.map(str) + '-' + jon_df.plant_name.map(str)\n",
    "steam3['rec'] = steam3.report_year.map(str) + '-' + steam3.plant_name_ferc1.map(str)\n",
    "\n",
    "merge_df = pd.merge(steam_test, jon_df, on=['report_year','record_id'], how='left')"
   ]
  },
  {
   "cell_type": "code",
   "execution_count": null,
   "id": "wanted-board",
   "metadata": {},
   "outputs": [],
   "source": []
  },
  {
   "cell_type": "code",
   "execution_count": 250,
   "id": "peripheral-default",
   "metadata": {},
   "outputs": [
    {
     "data": {
      "text/plain": [
       "'\\ndict: A dictionary linking fuel units (keys) to lists of various strings\\n    representing those fuel units (values)\\n'"
      ]
     },
     "execution_count": 250,
     "metadata": {},
     "output_type": "execute_result"
    }
   ],
   "source": [
    "FUEL_STRINGS = {\n",
    "    \"coal\": [\n",
    "        'coal', 'coal-subbit', 'lignite', 'coal(sb)', 'coal (sb)', 'coal-lignite',\n",
    "        'coke', 'coa', 'lignite/coal', 'coal - subbit', 'coal-subb', 'coal-sub',\n",
    "        'coal-lig', 'coal-sub bit', 'coals', 'ciak', 'petcoke', 'coal.oil', 'coal/gas',\n",
    "        'bit coal', 'coal-unit #3', 'coal-subbitum', 'coal tons', 'coal mcf',\n",
    "        'coal unit #3', 'pet. coke', 'coal-u3', 'coal&coke', 'tons'\n",
    "    ],\n",
    "    \"oil\": [\n",
    "        'oil', '#6 oil', '#2 oil', 'fuel oil', 'jet', 'no. 2 oil', 'no.2 oil',\n",
    "        'no.6& used', 'used oil', 'oil-2', 'oil (#2)', 'diesel oil',\n",
    "        'residual oil', '# 2 oil', 'resid. oil', 'tall oil', 'oil/gas',\n",
    "        'no.6 oil', 'oil-fuel', 'oil-diesel', 'oil / gas', 'oil bbls', 'oil bls',\n",
    "        'no. 6 oil', '#1 kerosene', 'diesel', 'no. 2 oils', 'blend oil',\n",
    "        '#2oil diesel', '#2 oil-diesel', '# 2  oil', 'light oil', 'heavy oil',\n",
    "        'gas.oil', '#2', '2', '6', 'bbl', 'no 2 oil', 'no 6 oil', '#1 oil', '#6',\n",
    "        'oil-kero', 'oil bbl', 'biofuel', 'no 2', 'kero', '#1 fuel oil',\n",
    "        'no. 2  oil', 'blended oil', 'no 2. oil', '# 6 oil', 'nno. 2 oil',\n",
    "        '#2 fuel', 'oill', 'oils', 'gas/oil', 'no.2 oil gas', '#2 fuel oil',\n",
    "        'oli', 'oil (#6)', 'oil/diesel', '2 oil', '#6 hvy oil', 'jet fuel',\n",
    "        'diesel/compos', 'oil-8', 'oil {6}', 'oil-unit #1', 'bbl.', 'oil.',  # noqa: FS003\n",
    "        'oil #6', 'oil (6)', 'oil(#2)', 'oil-unit1&2', 'oil-6', '#2 fue oil',\n",
    "        'dielel oil', 'dielsel oil', '#6 & used', 'barrels', 'oil un 1 & 2',\n",
    "        'jet oil', 'oil-u1&2', 'oiul', 'pil', 'oil - 2', '#6 & used', 'oial'\n",
    "    ],\n",
    "    \"gas\": [\n",
    "        'gas', 'gass', 'methane', 'natural gas', 'blast gas', 'gas mcf',\n",
    "        'propane', 'prop', 'natural  gas', 'nat.gas', 'nat gas',\n",
    "        'nat. gas', 'natl gas', 'ga', 'gas`', 'syngas', 'ng', 'mcf',\n",
    "        'blast gaa', 'nat  gas', 'gac', 'syngass', 'prop.', 'natural', 'coal.gas',\n",
    "        'n. gas', 'lp gas', 'natuaral gas', 'coke gas', 'gas #2016', 'propane**',\n",
    "        '* propane', 'propane **', 'gas expander', 'gas ct', '# 6 gas', '#6 gas',\n",
    "        'coke oven gas'\n",
    "    ],\n",
    "    \"solar\": [],\n",
    "    \"wind\": [],\n",
    "    \"hydro\": [],\n",
    "    \"nuclear\": [\n",
    "        'nuclear', 'grams of uran', 'grams of', 'grams of  ura',\n",
    "        'grams', 'nucleur', 'nulear', 'nucl', 'nucleart', 'nucelar',\n",
    "        'gr.uranium', 'grams of urm', 'nuclear (9)', 'nulcear', 'nuc',\n",
    "        'gr. uranium', 'nuclear mw da', 'grams of ura'\n",
    "    ],\n",
    "    \"waste\": [\n",
    "        'tires', 'tire', 'refuse', 'switchgrass', 'wood waste', 'woodchips',\n",
    "        'biomass', 'wood', 'wood chips', 'rdf', 'tires/refuse', 'tire refuse',\n",
    "        'waste oil', 'waste', 'woodships', 'tire chips'\n",
    "    ],\n",
    "    \"unknown\": [\n",
    "        'steam', 'purch steam', 'all', 'tdf', 'n/a', 'purch. steam', 'other',\n",
    "        'composite', 'composit', 'mbtus', 'total', 'avg', 'avg.', 'blo',\n",
    "        'all fuel', 'comb.', 'alt. fuels', 'na', 'comb', '/#=2\\x80â\\x91?',\n",
    "        'kã\\xadgv¸\\x9d?', \"mbtu's\", 'gas, oil', 'rrm', '3\\x9c', 'average',\n",
    "        'furfural', '0', 'watson bng', 'toal', 'bng', '# 6 & used', 'combined',\n",
    "        'blo bls', 'compsite', '*', 'compos.', 'gas / oil', 'mw days', 'g', 'c',\n",
    "        'lime', 'all fuels', 'at right', '20', '1', 'comp oil/gas', 'all fuels to',\n",
    "        'the right are', 'c omposite', 'all fuels are', 'total pr crk',\n",
    "        'all fuels =', 'total pc', 'comp', 'alternative', 'alt. fuel', 'bio fuel',\n",
    "        'total prairie', ''\n",
    "    ],\n",
    "}\n",
    "\"\"\"dict: A mapping a canonical fuel name to a list of strings which are used\n",
    "to represent that fuel in the FERC Form 1 Reporting. Case is ignored, as all fuel\n",
    "strings are converted to a lower case in the data set.\n",
    "\"\"\"\n",
    "\n",
    "FUEL_UNIT_STRINGS = {\n",
    "    \"ton\": [\n",
    "        'toms', 'taons', 'tones', 'col-tons', 'toncoaleq', 'coal', 'tons coal eq',\n",
    "        'coal-tons', 'ton', 'tons', 'tons coal', 'coal-ton', 'tires-tons',\n",
    "        'coal tons -2 ', 'oil-tons', 'coal tons 200', 'ton-2000', 'coal tons',\n",
    "        'coal tons -2', 'coal-tone', 'tire-ton', 'tire-tons', 'ton coal eqv', 'tos',\n",
    "        'coal tons - 2', 'c. t.', 'c.t.', 'toncoalequiv',\n",
    "    ],\n",
    "    \"mcf\": [\n",
    "        'mcf', \"mcf's\", 'mcfs', 'mcf.', 'gas mcf', '\"gas\" mcf', 'gas-mcf',\n",
    "        'mfc', 'mct', ' mcf', 'msfs', 'mlf', 'mscf', 'mci', 'mcl', 'mcg',\n",
    "        'm.cu.ft.', 'kcf', '(mcf)', 'mcf *(4)', 'mcf00', 'm.cu.ft..',\n",
    "    ],\n",
    "    \"bbl\": [\n",
    "        'barrel', 'bbls', 'bbl', 'barrels', 'bbrl', 'bbl.', 'bbls.', 'oil 42 gal',\n",
    "        'oil-barrels', 'barrrels', 'bbl-42 gal', 'oil-barrel', 'bb.', 'barrells',\n",
    "        'bar', 'bbld', 'oil- barrel', 'barrels    .', 'bbl .', 'barels', 'barrell',\n",
    "        'berrels', 'bb', 'bbl.s', 'oil-bbl', 'bls', 'bbl:', 'barrles', 'blb',\n",
    "        'propane-bbl', 'barriel', 'berriel', 'barrile', '(bbl.)', 'barrel *(4)',\n",
    "        '(4) barrel', 'bbf', 'blb.', '(bbl)', 'bb1', 'bbsl', 'barrrel', 'barrels 100%',\n",
    "        'bsrrels', \"bbl's\", '*barrels', 'oil - barrels', 'oil 42 gal ba', 'bll',\n",
    "        'boiler barrel', 'gas barrel', '\"boiler\" barr', '\"gas\" barrel',\n",
    "        '\"boiler\"barre', '\"boiler barre', 'barrels .', 'bariel', 'brrels', 'oil barrel',\n",
    "    ],\n",
    "    \"gal\": ['gallons', 'gal.', 'gals', 'gals.', 'gallon', 'gal', 'galllons'],\n",
    "    \"kgal\": ['oil(1000 gal)', 'oil(1000)', 'oil (1000)', 'oil(1000', 'oil(1000ga)'],\n",
    "    \"gramsU\": [\n",
    "        'gram', 'grams', 'gm u', 'grams u235', 'grams u-235', 'grams of uran',\n",
    "        'grams: u-235', 'grams:u-235', 'grams:u235', 'grams u308', 'grams: u235',\n",
    "        'grams of', 'grams - n/a', 'gms uran', 's e uo2 grams', 'gms uranium',\n",
    "        'grams of urm', 'gms. of uran', 'grams (100%)', 'grams v-235', 'se uo2 grams',\n",
    "    ],\n",
    "    \"kgU\": [\n",
    "        'kg of uranium', 'kg uranium', 'kilg. u-235', 'kg u-235', 'kilograms-u23',\n",
    "        'kg', 'kilograms u-2', 'kilograms', 'kg of', 'kg-u-235', 'kilgrams',\n",
    "        'kilogr. u235', 'uranium kg', 'kg uranium25', 'kilogr. u-235',\n",
    "        'kg uranium 25', 'kilgr. u-235', 'kguranium 25', 'kg-u235', 'kgm',\n",
    "    ],\n",
    "    \"klbs\": ['k lbs.', 'k lbs'],\n",
    "    \"mmbtu\": [\n",
    "        'mmbtu', 'mmbtus', 'mbtus', '(mmbtu)', \"mmbtu's\", 'nuclear-mmbtu',\n",
    "        'nuclear-mmbt', 'mmbtul',\n",
    "    ],\n",
    "    \"btu\": ['btus', 'btu', ],\n",
    "    \"mwdth\": [\n",
    "        'mwd therman', 'mw days-therm', 'mwd thrml', 'mwd thermal',\n",
    "        'mwd/mtu', 'mw days', 'mwdth', 'mwd', 'mw day', 'dth', 'mwdaysthermal',\n",
    "        'mw day therml', 'mw days thrml', 'nuclear mwd', 'mmwd', 'mw day/therml'\n",
    "        'mw days/therm', 'mw days (th', 'ermal)',\n",
    "    ],\n",
    "    \"mwhth\": [\n",
    "        'mwh them', 'mwh threm', 'nwh therm', 'mwhth',\n",
    "        'mwh therm', 'mwh', 'mwh therms.', 'mwh term.uts',\n",
    "        'mwh thermal', 'mwh thermals', 'mw hr therm',\n",
    "        'mwh therma', 'mwh therm.uts',\n",
    "    ],\n",
    "    \"unknown\": [\n",
    "        '', '1265', 'mwh units', 'composite', 'therms', 'n/a', 'mbtu/kg', 'uranium 235',\n",
    "        'oil', 'ccf', '2261', 'uo2', '(7)', 'oil #2', 'oil #6', '\\x99å\\x83\\x90?\"',\n",
    "        'dekatherm', '0', 'mw day/therml', 'nuclear', 'gas', '62,679', 'mw days/therm',\n",
    "        'na', 'uranium', 'oil/gas', 'thermal', '(thermal)', 'se uo2', '181679', '83',\n",
    "        '3070', '248', '273976', '747', '-', 'are total', 'pr. creek', 'decatherms',\n",
    "        'uramium', '.', 'total pr crk', '>>>>>>>>', 'all', 'total', 'alternative-t',\n",
    "        'oil-mcf', '3303671', '929', '7182175', '319', '1490442', '10881', '1363663',\n",
    "        '7171', '1726497', '4783', '7800', '12559', '2398', 'creek fuels',\n",
    "        'propane-barre', '509', 'barrels/mcf', 'propane-bar', '4853325', '4069628',\n",
    "        '1431536', '708903', 'mcf/oil (1000',\n",
    "    ],\n",
    "}\n",
    "\"\"\"\n",
    "dict: A dictionary linking fuel units (keys) to lists of various strings\n",
    "    representing those fuel units (values)\n",
    "\"\"\""
   ]
  },
  {
   "cell_type": "code",
   "execution_count": null,
   "id": "structured-integer",
   "metadata": {},
   "outputs": [],
   "source": []
  }
 ],
 "metadata": {
  "kernelspec": {
   "display_name": "Python 3",
   "language": "python",
   "name": "python3"
  },
  "language_info": {
   "codemirror_mode": {
    "name": "ipython",
    "version": 3
   },
   "file_extension": ".py",
   "mimetype": "text/x-python",
   "name": "python",
   "nbconvert_exporter": "python",
   "pygments_lexer": "ipython3",
   "version": "3.8.6"
  }
 },
 "nbformat": 4,
 "nbformat_minor": 5
}
