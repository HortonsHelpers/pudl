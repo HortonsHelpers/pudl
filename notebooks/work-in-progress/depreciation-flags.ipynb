{
 "cells": [
  {
   "cell_type": "markdown",
   "id": "western-monitor",
   "metadata": {},
   "source": [
    "# Depreciation Flags"
   ]
  },
  {
   "cell_type": "markdown",
   "id": "given-calvin",
   "metadata": {},
   "source": [
    "### Setup"
   ]
  },
  {
   "cell_type": "code",
   "execution_count": 2,
   "id": "flush-resolution",
   "metadata": {
    "jupyter": {
     "source_hidden": true
    }
   },
   "outputs": [],
   "source": [
    "%load_ext autoreload\n",
    "%autoreload 2"
   ]
  },
  {
   "cell_type": "code",
   "execution_count": 3,
   "id": "polished-morning",
   "metadata": {
    "jupyter": {
     "source_hidden": true
    }
   },
   "outputs": [],
   "source": [
    "# Standard libraries\n",
    "import logging\n",
    "import sys\n",
    "import os\n",
    "import pathlib\n",
    "\n",
    "# 3rd party libraries\n",
    "import geopandas as gpd\n",
    "import dask.dataframe as dd\n",
    "from dask.distributed import Client\n",
    "import matplotlib.pyplot as plt\n",
    "import matplotlib as mpl\n",
    "import numpy as np\n",
    "import pandas as pd\n",
    "import seaborn as sns\n",
    "import sqlalchemy as sa\n",
    "\n",
    "# Local libraries\n",
    "import pudl"
   ]
  },
  {
   "cell_type": "code",
   "execution_count": 4,
   "id": "weekly-birthday",
   "metadata": {
    "jupyter": {
     "source_hidden": true
    }
   },
   "outputs": [],
   "source": [
    "# Enable viewing of logging outputs\n",
    "logger=logging.getLogger()\n",
    "logger.setLevel(logging.INFO)\n",
    "handler = logging.StreamHandler(stream=sys.stdout)\n",
    "formatter = logging.Formatter('%(message)s')\n",
    "handler.setFormatter(formatter)\n",
    "logger.handlers = [handler]"
   ]
  },
  {
   "cell_type": "code",
   "execution_count": 5,
   "id": "aware-poker",
   "metadata": {
    "jupyter": {
     "source_hidden": true
    }
   },
   "outputs": [],
   "source": [
    "# Display settings\n",
    "sns.set()\n",
    "%matplotlib inline\n",
    "mpl.rcParams['figure.dpi'] = 150\n",
    "pd.options.display.max_columns = 100\n",
    "pd.options.display.max_rows = 10"
   ]
  },
  {
   "cell_type": "code",
   "execution_count": 6,
   "id": "racial-lucas",
   "metadata": {
    "jupyter": {
     "source_hidden": true
    }
   },
   "outputs": [],
   "source": [
    "# Establish connection to pudl database\n",
    "pudl_settings = pudl.workspace.setup.get_defaults()\n",
    "pudl_engine = sa.create_engine(pudl_settings['pudl_db'])\n",
    "pudl_out = pudl.output.pudltabl.PudlTabl(\n",
    "    pudl_engine=pudl_engine,\n",
    "    freq='AS'\n",
    ")"
   ]
  },
  {
   "cell_type": "markdown",
   "id": "precise-presence",
   "metadata": {},
   "source": [
    "## Step 1: combine steam + fuel and create a better technology type"
   ]
  },
  {
   "cell_type": "markdown",
   "id": "fiscal-birmingham",
   "metadata": {},
   "source": [
    "**merge steam with fbp table** \n",
    "(steam and fuel tables have already been combined in the fbp table. Now, we have to merge that table with steam to get the steam fields with the fbp fuel type)"
   ]
  },
  {
   "cell_type": "code",
   "execution_count": 7,
   "id": "looking-amino",
   "metadata": {
    "jupyter": {
     "source_hidden": true
    }
   },
   "outputs": [],
   "source": [
    "fbp = pudl_out.fbp_ferc1()\n",
    "steam = pudl_out.plants_steam_ferc1()\n",
    "plants = pudl_out.plants_eia860()\n",
    "gens = pudl_out.gens_eia860()\n",
    "net_gen = pudl_out.gen_eia923()\n",
    "\n",
    "ferc_id_cols = ['report_year', 'utility_id_pudl', 'plant_name_ferc1']\n",
    "plant_id_cols = ['report_year', 'utility_id_pudl', 'plant_id_pudl']\n",
    "gen_id_cols = ['report_date', 'plant_id_pudl', 'generator_id']"
   ]
  },
  {
   "cell_type": "code",
   "execution_count": 8,
   "id": "processed-livestock",
   "metadata": {
    "jupyter": {
     "source_hidden": true
    }
   },
   "outputs": [],
   "source": [
    "# Merge fbp and steam tables\n",
    "fbp_sample = fbp[ferc_id_cols + ['primary_fuel_by_mmbtu', 'primary_fuel_by_cost']]\n",
    "steam_better_fuel = pd.merge(steam, fbp_sample, on=ferc_id_cols, how='left').drop_duplicates()"
   ]
  },
  {
   "cell_type": "markdown",
   "id": "apart-right",
   "metadata": {},
   "source": [
    "Show rows that need to be filled in"
   ]
  },
  {
   "cell_type": "code",
   "execution_count": 9,
   "id": "encouraging-beaver",
   "metadata": {
    "jupyter": {
     "source_hidden": true
    }
   },
   "outputs": [
    {
     "name": "stdout",
     "output_type": "stream",
     "text": [
      "total rows: 29270\n",
      "rows without fuel type: 7581\n",
      "plants with no fuel type: 1069\n",
      "plants EIA could possibly cover: 737\n",
      "rows EIA could possibly cover: 2562\n"
     ]
    }
   ],
   "source": [
    "print('total rows:', len(steam_better_fuel))\n",
    "# Find rows that still have no fuel type in the better steam table\n",
    "print('rows without fuel type:', len(steam_better_fuel[steam_better_fuel['primary_fuel_by_mmbtu'].isna()]))\n",
    "\n",
    "# Find plants that still have no fuel type in the better steam table\n",
    "no_fuel = steam_better_fuel[steam_better_fuel['primary_fuel_by_mmbtu'].isna()]\n",
    "no_fuel_list = list(no_fuel['plant_id_pudl'].unique())\n",
    "print('plants with no fuel type:', len(no_fuel_list))\n",
    "\n",
    "# Find plants with no fuel type that do have a fuel type in EIA\n",
    "gens2 = gens[(gens['plant_id_pudl'].notna()) & (gens['fuel_type_code_pudl'].notna())].copy()\n",
    "gens2['report_year'] = gens2['report_date'].dt.year\n",
    "gen_plants = list(gens2['plant_id_pudl'].unique()).copy()\n",
    "print('plants EIA could possibly cover:', len([plant for plant in no_fuel_list if plant in gen_plants]))\n",
    "\n",
    "# Find plants and years with no fuel typ ethat do have a fuel type in EIA\n",
    "id_df = (\n",
    "    gens2[['report_year', 'plant_id_pudl']].drop_duplicates()\n",
    "    .append(no_fuel[['report_year', 'plant_id_pudl']].drop_duplicates())\n",
    ").copy()\n",
    "id_df['dup'] = id_df.duplicated().copy()\n",
    "print('rows EIA could possibly cover:', len(id_df[id_df['dup']==True].drop_duplicates()))"
   ]
  },
  {
   "cell_type": "markdown",
   "id": "immune-pontiac",
   "metadata": {},
   "source": [
    "**Merge with EIA** (because there are still 6233 rows without a fuel type and some can be filled in by EIA values)"
   ]
  },
  {
   "cell_type": "code",
   "execution_count": 10,
   "id": "functioning-residence",
   "metadata": {
    "jupyter": {
     "source_hidden": true
    }
   },
   "outputs": [],
   "source": [
    "# Combine generation from 860 with generation from 923 to get fuel type and net generation\n",
    "net_gen_fuel = pd.merge(gens, net_gen[gen_id_cols+['net_generation_mwh']], on=gen_id_cols, how='outer')"
   ]
  },
  {
   "cell_type": "markdown",
   "id": "literary-intelligence",
   "metadata": {},
   "source": [
    "NOTE: because 923 only goes back to 2009, some will inevitably be left out :("
   ]
  },
  {
   "cell_type": "code",
   "execution_count": 11,
   "id": "handy-aluminum",
   "metadata": {
    "jupyter": {
     "source_hidden": true
    }
   },
   "outputs": [],
   "source": [
    "# Aggregate gen by plant and get fuel type based on net generation\n",
    "net_gen_fuel['plant_net_gen'] = (\n",
    "    net_gen_fuel.groupby(['report_date', 'plant_id_pudl'])['net_generation_mwh'].transform('sum')\n",
    ")\n",
    "\n",
    "net_gen_fuel['gen_pct'] = (\n",
    "    net_gen_fuel['net_generation_mwh'] / net_gen_fuel['plant_net_gen'] * 100\n",
    ")\n",
    "\n",
    "# only keep rows where the gen_pct value is the highest\n",
    "idx = net_gen_fuel.groupby(['report_date', 'plant_id_pudl'])['gen_pct'].transform(max) == net_gen_fuel['gen_pct']\n",
    "plant_net_gen_fuel = net_gen_fuel[idx].drop_duplicates(['report_date', 'plant_id_pudl', 'gen_pct'])"
   ]
  },
  {
   "cell_type": "code",
   "execution_count": 12,
   "id": "presidential-minutes",
   "metadata": {
    "jupyter": {
     "source_hidden": true
    }
   },
   "outputs": [],
   "source": [
    "# Make plant level eia fuel types ready to merge with steam table\n",
    "eia_fuel = plant_net_gen_fuel[['report_date', 'plant_id_pudl', 'utility_id_pudl', 'fuel_type_code_pudl']].copy()\n",
    "eia_fuel['report_year'] = eia_fuel['report_date'].dt.year.copy()"
   ]
  },
  {
   "cell_type": "code",
   "execution_count": 13,
   "id": "sexual-score",
   "metadata": {
    "jupyter": {
     "source_hidden": true
    }
   },
   "outputs": [],
   "source": [
    "# Merge eia and steam tables\n",
    "ferc_eia_fuel = pd.merge(steam_better_fuel, eia_fuel, on=plant_id_cols, how='left')\n",
    "ferc_eia_fuel = ferc_eia_fuel.rename(columns={'fuel_type_code_pudl': 'fuel_type_code_pudl_net_gen'})"
   ]
  },
  {
   "cell_type": "code",
   "execution_count": 14,
   "id": "running-cutting",
   "metadata": {
    "jupyter": {
     "source_hidden": true
    }
   },
   "outputs": [
    {
     "name": "stdout",
     "output_type": "stream",
     "text": [
      "6816 out of 29270 rows still dont have a fuel type\n",
      "23.3 %\n"
     ]
    }
   ],
   "source": [
    "# Number of rows that still don't have a fuel type:\n",
    "no_fuel_df = ferc_eia_fuel[(ferc_eia_fuel['fuel_type_code_pudl_net_gen'].isna()) & (ferc_eia_fuel['primary_fuel_by_mmbtu'].isna()) & (ferc_eia_fuel['primary_fuel_by_cost'].isna())]\n",
    "print(len(no_fuel_df), 'out of', len(ferc_eia_fuel), 'rows still dont have a fuel type')\n",
    "print(round((len(no_fuel_df)/len(ferc_eia_fuel)*100), 1),'%')"
   ]
  },
  {
   "cell_type": "code",
   "execution_count": 15,
   "id": "flush-mathematics",
   "metadata": {
    "jupyter": {
     "source_hidden": true
    }
   },
   "outputs": [
    {
     "name": "stdout",
     "output_type": "stream",
     "text": [
      "6816\n",
      "5012\n"
     ]
    }
   ],
   "source": [
    "print(len(no_fuel_df))\n",
    "print(len(no_fuel_df[no_fuel_df['report_year']<2009]))"
   ]
  },
  {
   "cell_type": "markdown",
   "id": "extreme-perry",
   "metadata": {},
   "source": [
    "#### Might be able to do some historic backfilling too"
   ]
  },
  {
   "cell_type": "markdown",
   "id": "foster-research",
   "metadata": {},
   "source": [
    "## **Step 2:** Create flags for rows that represent TOTALS\n",
    "Create flag columns for the steam table that notes which rows should be included when aggregating different data fields for each utility. These fields are: capacity, generation, number of employees, original cost, operation expenses.\n",
    "\n",
    "\n",
    "The plan is to develop a flag to note whether a line is the whole plant or the owned portion\n",
    "\n",
    "**Flags:**\n",
    "- utility owned total\n",
    "- unit total\n",
    "- plant total\n",
    "- extra gas"
   ]
  },
  {
   "cell_type": "code",
   "execution_count": 129,
   "id": "southern-aircraft",
   "metadata": {
    "jupyter": {
     "source_hidden": true
    }
   },
   "outputs": [],
   "source": [
    "def flag_totals(steam_table):\n",
    "    \"\"\"Preliminarily mark the rows with total indicated in the plant name.\"\"\"\n",
    "    regex1 = r'(?i)tot[a-z]*' # Find anything that would resembles TOTAL in the plant name\n",
    "    regex2 = '100%' # Find all names with 100% in them\n",
    "    regex3 = 'ttl ' # the space at the end is important\n",
    "    regex4 = r'\\(all' # find any names with '(all' in them\n",
    "    \n",
    "    steam_table['total'] = steam_table['plant_name_ferc1'].str.contains('|'.join([regex1, regex2, regex3, regex4]))\n",
    "    ser_no_octo = steam_table[steam_table['plant_name_ferc1'].str.contains('octotillo')].total == False\n",
    "    steam_table['total'].update(ser_no_octo) # remove octotillio from total = True because it accidentally fits in the 'tot' regex\n",
    "    \n",
    "    return steam_table"
   ]
  },
  {
   "cell_type": "code",
   "execution_count": 87,
   "id": "studied-garden",
   "metadata": {
    "jupyter": {
     "source_hidden": true
    }
   },
   "outputs": [],
   "source": [
    "def flag_plant_totals(df, col_name):\n",
    "    \n",
    "    def is_plant_total(row):\n",
    "        if 'total plant' in row:\n",
    "            return 'plant total'\n",
    "        elif 'plant total' in row:\n",
    "            return 'plant total'\n",
    "        elif 'total plt' in row:\n",
    "            return 'plant total'\n",
    "        elif 'ttl plt' in row:\n",
    "            return 'plant total'\n",
    "        elif 'tot. plt.' in row:\n",
    "            return 'plant total'\n",
    "        elif '100%' in row:\n",
    "            return 'plant total'\n",
    "        else:\n",
    "            return None\n",
    "    \n",
    "    df[col_name] = df.apply(lambda x: is_plant_total(x.plant_name_ferc1), axis=1)\n",
    "    \n",
    "    return df"
   ]
  },
  {
   "cell_type": "code",
   "execution_count": 88,
   "id": "composed-effect",
   "metadata": {
    "jupyter": {
     "source_hidden": true
    }
   },
   "outputs": [],
   "source": [
    "def backfill_years_by_capacity(df, col_name, replace, replace_with):\n",
    "    \"\"\"Backfill rows based on capacity.\"\"\"\n",
    "    \n",
    "    only_totals_df = df[df[col_name]==replace_with]\n",
    "    plant_groups = only_totals_df.groupby('plant_id_pudl')\n",
    "    capacity_dict = plant_groups['capacity_mw'].apply(lambda x: [x for x in list(x.unique()) if x !=0]).to_dict() # no zeros\n",
    "    plants_with_totals_list = list(capacity_dict.keys())\n",
    "    \n",
    "    for plant_id in plants_with_totals_list:\n",
    "        for capacity in capacity_dict[plant_id]:\n",
    "            one_plant_df = df[df['plant_id_pudl']==plant_id].copy()\n",
    "            cap_match_df = one_plant_df[one_plant_df['capacity_mw'].isin(capacity_dict[plant_id])]\n",
    "            series_update = cap_match_df[col_name].replace({replace: replace_with})\n",
    "            df[col_name].update(series_update) \n",
    "            \n",
    "    return df"
   ]
  },
  {
   "cell_type": "code",
   "execution_count": 137,
   "id": "polyphonic-string",
   "metadata": {
    "jupyter": {
     "source_hidden": true
    }
   },
   "outputs": [],
   "source": [
    "def categorize_bad_rows(df, f_list): # could probably make this faster...\n",
    "    \"\"\"Flag bad rows.\"\"\"\n",
    "    for fix_dict in f_list:\n",
    "        for year in fix_dict['years']:\n",
    "            df.loc[df['record_id']==f\"f1_steam_{year}{fix_dict['id_suffix']}\", 'total_type'] = fix_dict['total_type']\n",
    "    \n",
    "    return df"
   ]
  },
  {
   "cell_type": "code",
   "execution_count": null,
   "id": "incident-treat",
   "metadata": {
    "jupyter": {
     "source_hidden": true
    }
   },
   "outputs": [],
   "source": [
    "# Fix-a-dic\n",
    "# need to append ferc1_steam_YEAR_id_suffix\n",
    "# categories:\n",
    "# - plant total\n",
    "# - unit total\n",
    "# - utility owned total\n",
    "# - combustion turbine extra\n",
    "\n",
    "fix_list = [\n",
    "    # Rockport AEP\n",
    "    {'id_suffix': '_12_1_0_3', 'total_type': 'utility owned total', 'years': range(1994,2020)}, #pudl id 530\n",
    "    # Rockport IMP\n",
    "    {'id_suffix': '_12_73_1_3', 'total_type': 'utility owned total', 'years': range(1994,1997)}, #pudl id 530\n",
    "    {'id_suffix': '_12_73_0_3', 'total_type': 'utiltiy owned total', 'years': range(1997,2020)}, # pudl id 530\n",
    "    # Amos APC\n",
    "    {'id_suffix': '_12_6_0_3', 'total_type': 'plant total', 'years': range(1994,2002)}, #pudl id 16\n",
    "    # Conesville 4 - Columbus Southern Power Company then Ohio Power Company then AEP\n",
    "    {'id_suffix': '_12_31_0_3', 'total_type': 'unit total', 'years': range(1994,2011)}, # pudl id 128\n",
    "    {'id_suffix': '_12_127_4_1', 'total_type': 'unit total', 'years': range(2011,2014)}, # pudl id 128\n",
    "    {'id_suffix': '_12_452_1_2', 'total_type': 'unit total', 'years': range(2014,2015)}, # pudl id 128\n",
    "    # Conesville 4 - Duke \n",
    "    {'id_suffix': '_12_27_1_3', 'total_type': 'unit total', 'years': range(1994,2003)}, # pudl if 128  # was plant total\n",
    "    # Belle River - DTE\n",
    "    {'id_suffix': '_12_44_0_1', 'total_type': 'utility owned total', 'years': range(1994, 2020)}, # pudl id 44  # also plant total, doesn't add up first year\n",
    "    # Mitchell - Kentucky Power\n",
    "    {'id_suffix': '_12_81_0_3', 'total_type': 'plant total', 'years': range(2014,2020)}, # pudl id 382  \n",
    "    # Mitchell - AEP then Wheeling Power\n",
    "    {'id_suffix': '_12_452_3_3', 'total_type': 'plant total', 'years': range(2014,2015)}, # pudl id 382\n",
    "    {'id_suffix': '_12_192_0_2', 'total_type': 'plant total', 'years': range(2015,2020)}, # pudl id 382\n",
    "    # Iatan 1 - Kansas City Power and Light\n",
    "    {'id_suffix': '_12_79_1_1', 'total_type': 'unit total', 'years': range(2010,2020)}, # pudl id 295  # was plant total\n",
    "    # Iatan 2 - Kansas Ciry Power and Light\n",
    "    {'id_suffix': '_12_79_1_3', 'total_type': 'unit total', 'years': range(2010,2020)}, # pudl id 295  # was plant total\n",
    "    # La Cygne - Kansas  \n",
    "    #{'id_suffix': '_12_80_0_3', 'total_type': 'plant total', 'years': range(1994,2010)}, # pudl id 336  # very weird, nums don't add up\n",
    "    # Jeffrey - Kansas Gas and Electric\n",
    "    {'id_suffix': '_12_80_1_1', 'total_type': 'plant total', 'years': range(1994,1995)}, # pudl id 307\n",
    "    {'id_suffix': '_12_80_1_3', 'total_type': 'plant total', 'years': range(1995,2002)}, # pudl id 307\n",
    "    {'id_suffix': '_12_80_1_1', 'total_type': 'plant total', 'years': range(2002,2010)},\n",
    "    # Jeffrey - Westar Energy\n",
    "    {'id_suffix': '_12_191_1_4', 'total_type': 'plant total', 'years': range(1994,1995)}, # pudl id 307\n",
    "    {'id_suffix': '_12_191_1_5', 'total_type': 'plant total', 'years': range(1995,2005)}, # pudl id 307\n",
    "    {'id_suffix': '_12_191_1_3', 'total_type': 'plant total', 'years': range(2005,2006)}, # pudl id 307\n",
    "    {'id_suffix': '_12_191_1_5', 'total_type': 'plant total', 'years': range(2006,2010)}, # pudl id 307\n",
    "    # JM Stuart - Duke Energy\n",
    "    {'id_suffix': '_12_27_1_1', 'total_type': 'plant total', 'years': range(1994,2003)}, # pudl id 288\n",
    "    # JM Stuart - Dayton Power and Light\n",
    "    {'id_suffix': '_12_42_2_1', 'total_type': 'plant total', 'years': range(1994,1998)}, # pudl id 288\n",
    "    {'id_suffix': '_12_42_1_1', 'total_type': 'plant total', 'years': range(1998,2001)}, # pudl id 288\n",
    "    # Valley - Wisconsin Power and Electric\n",
    "    {'id_suffix': '_12_193_0_3', 'total_type': 'utility owned total', 'years': range(1994,1996)}, # pudl id 603  # could also be plant total\n",
    "    # Pt. Wash - Wisconsin Electric Power\n",
    "    {'id_suffix': '_12_193_1_4', 'total_type': 'utility owned total', 'years': range(1994,1996)}, # pudl id 470  # other weird value -- see below\n",
    "    # Pt. Wash (gas) - Wisconsin Electric Power\n",
    "    {'id_suffix': '_12_193_7_1', 'total_type': 'combustion turbine extra', 'years': range(1994,1996)}, # pudl id 470\n",
    "    {'id_suffix': '_12_193_1_3', 'total_type': 'combustion turbine extra', 'years': range(1996,2004)}, # pudl id 470  # 2004 might not be right -- confusing\n",
    "    \n",
    "    {'id_suffix': '_12_193_3_4', 'total_type': 'utility owned total', 'years': range(1994,1996)}, # pudl id 469  # also plant total\n",
    "    \n",
    "    {'id_suffix': '_12_193_4_4', 'total_type': 'utility owned total', 'years': range(1994,1996)}, # pudl id 542  # also plant total\n",
    "    {'id_suffix': '_12_193_0_4', 'total_type': 'utility owned total', 'years': range(1996,2008)}, # has 1 unit only here on...\n",
    "    {'id_suffix': '_12_193_1_3', 'total_type': 'utility owned total', 'years': range(2008,2015)}, # pudl id 542  # technically becomes just one row in 2010\n",
    "    \n",
    "    {'id_suffix': '_12_193_5_2', 'total_type': 'utility owned total', 'years': range(1994,1996)}, # pudl id 1216 # also plant total\n",
    "    {'id_suffix': '_12_193_0_5', 'total_type': 'utility owned total', 'years': range(1996,2008)}, # pudl id 1216 # has 1 unit only\n",
    "    \n",
    "    {'id_suffix': '_12_193_5_5', 'total_type': 'utility owned total', 'years': range(1994,1996)}, # pudl id 458 # also plant total\n",
    "    \n",
    "    {'id_suffix': '_12_193_6_5', 'total_type': 'utility owned total', 'years': range(1994,1996)}, # pudl id 216  # also plant total\n",
    "    \n",
    "    {'id_suffix': '12_193_8_4', 'total_type': 'utility owned total', 'years': range(1994,1996)}, # pudl id 127  # also plant total\n",
    "    \n",
    "    {'id_suffix': '_12_194_0_4', 'total_type': 'unit total', 'years': range(1994,2012)}, # pudl id 123  # was labeled plant total b/c of 100%\n",
    "    {'id_suffix': '_12_194_0_1', 'total_type': 'unit total', 'years': range(2012,)}, # pudl id 123\n",
    "    \n",
    "    {'id_suffix': '_12_194_0_5', 'total_type': 'unit total', 'years': range(1994,2012)}, # pudl id 123  # was labeled plant total b/c of 100%\n",
    "    {'id_suffix': '_12_194_0_2', 'total_type': 'unit total', 'years': range(2012,)}, # pudl id 123\n",
    "    \n",
    "    {'id_suffix': '_12_194_2_3', 'total_type': 'utility owned total', 'years': range(1994,1998)}, # pudl id 123 \n",
    "    {'id_suffix': '_12_194_1_4', 'total_type': 'utility owned total', 'years': range(1998,2012)}, # pudl id 123  # continuation of before 2_3 to 1_4\n",
    "    {'id_suffix': '_12_194_1_1', 'total_type': 'utility owned total', 'years': range(2012,2014)}, # pudl id 123 \n",
    "    \n",
    "    {'id_suffix': '_12_89_1_5', 'total_type': 'utility owned total', 'years': range(1994,1998)},# pudl id 123\n",
    "    {'id_suffix': '_12_89_1_3', 'total_type': 'utility owned total', 'years': range(1998,2002)}, # pudl id 123  # continuation of before 1_5 to 1_3\n",
    "    {'id_suffix': '_12_89_1_5', 'total_type': 'utility owned total', 'years': range(2002,2007)}, # pudl id 123  # record id went back from 1_3 to 1_5\n",
    "    {'id_suffix': '_12_89_0_4', 'total_type': 'utility owned total', 'years': range(2007,2008)}, # pudl id 123  # 1_5 to 0_4\n",
    "    {'id_suffix': '_12_89_0_5', 'total_type': 'utility owned total', 'years': range(2008,2009)}, # pudl id 123  # 0_4 to 0_5\n",
    "    {'id_suffix': '_12_89_1_4', 'total_type': 'utility owned total', 'years': range(2010,2012)}, # pudl id 123  # 0_5 to 1_4\n",
    "    {'id_suffix': '_12_89_0_5', 'total_type': 'utility owned total', 'years': range(2012,2014)}, # pudl id 123\n",
    "    {'id_suffix': '_12_89_1_4', 'total_type': 'utility owned total', 'years': range(2014,2015)}, # pudl id 123\n",
    "    {'id_suffix': '_12_89_1_5', 'total_type': 'utility owned total', 'years': range(2015,2016)}, # pudl id 123\n",
    "    {'id_suffix': '_12_89_0_5', 'total_type': 'utility owned total', 'years': range(2016,2019)}, # pudl id 123\n",
    "    {'id_suffix': '_12_89_0_4', 'total_type': 'utility owned total', 'years': range(2019,2020)}, # pudl id 123\n",
    "    \n",
    "    {'id_suffix': '_12_194_2_5', 'total_type': 'unit total', 'years': range(1994,1998)}, # pudl id 171  # was plant total\n",
    "    {'id_suffix': '_12_194_2_1', 'total_type': 'unit total', 'years': range(1998,2012)}, # pudl id 171\n",
    "    {'id_suffix': '_12_194_1_3', 'total_type': 'unit total', 'years': range(2012,2014)}, # pudl id 171\n",
    "    {'id_suffix': '_12_194_1_1', 'total_type': 'unit total', 'years': range(2014,2016)}, # pudl id 171\n",
    "    {'id_suffix': '_12_194_0_5', 'total_type': 'unit total', 'years': range(2016,2019)}, # pudl id 171\n",
    "    \n",
    "    {'id_suffix': '_12_194_3_4', 'total_type': 'unit total', 'years': range(1994,1998)}, # pudl id 171  # contains unit-1, was plant total\n",
    "    {'id_suffix': '_12_194_2_3', 'total_type': 'unit total', 'years': range(1998,2012)}, # pudl id 171\n",
    "    {'id_suffix': '_12_194_1_5', 'total_type': None, 'years': range(2012,2014)}, # pudl id 171 -- was 2_3 but now 1_5 and owned by one utility   \n",
    "    \n",
    "    {'id_suffix': '_12_134_0_5', 'total_type': 'utility owned total', 'years': range(1994,2001)}, # pudl id 281  # also plant total\n",
    "    {'id_suffix': '_12_134_1_5', 'total_type': 'utility owned total', 'years': range(2001,2016)},\n",
    "    {'id_suffix': '_12_134_1_4', 'total_type': 'utility owned total', 'years': range(2016,2020)},\n",
    "    \n",
    "    {'id_suffix': '_12_138_0_5', 'total_type': 'utility owned total', 'years': range(1994,)}, # pudl id 2281  # also plant total\n",
    "    \n",
    "    {'id_suffix': '_12_138_2_3', 'total_type': 'combustion turbine extra', 'years': range(1994,1997)}, # pudl id 2281  # pause for 2 years\n",
    "    {'id_suffix': '_12_138_4_1', 'total_type': 'combustion turbine extra', 'years': range(1999,2000)}, # pudl id 2281\n",
    "    {'id_suffix': '_12_138_2_3', 'total_type': 'combustion turbine extra', 'years': range(2000,2001)}, # pudl id 2281\n",
    "\n",
    "    {'id_suffix': '_12_195_1_5', 'total_type': 'utility owned total', 'years': range(1994,2008)}, # pudl id 503  # was plant total, is also technically plant total...\n",
    "    {'id_suffix': '_12_195_1_3', 'total_type': 'utility owned total', 'years': range(2008,2011)}, # pudl id 503\n",
    "    {'id_suffix': '_12_195_1_1', 'total_type': 'utility owned total', 'years': range(2011,2019)}, # pudl id 503\n",
    "   \n",
    "    {'id_suffix': '_12_195_3_4', 'total_type': 'utility owned total', 'years': range(1994,2011)}, # pudl id 473  # was plant total, might also be plant total\n",
    "    {'id_suffix': '_12_195_2_3', 'total_type': 'utility owned total', 'years': range(2011,2018)}, # pudl id 473\n",
    "    {'id_suffix': '_12_195_2_2', 'total_type': 'utility owned total', 'years': range(2018,2019)}, # pudl id 473 # but there is wierdness with the w31 and w32\n",
    "    \n",
    "    {'id_suffix': '_12_195_2_5', 'total_type': 'unit total', 'years': range(2008,2011)}, # pudl id 473\n",
    "    {'id_suffix': '_12_195_2_1', 'total_type': 'unit total', 'years': range(2011,2018)}, # pudl id 473\n",
    "    \n",
    "    {'id_suffix': '_12_195_3_5', 'total_type': 'plant total', 'years': range(1994,2006)}, # pudl id 1166\n",
    "    \n",
    "    {'id_suffix': '_12_195_5_5', 'total_type': 'unit total', 'years': range(2004,2006)}, # pudl id 343\n",
    "    {'id_suffix': '_12_195_5_3', 'total_type': 'unit total', 'years': range(2006,2011)}, # pudl id 343\n",
    "    {'id_suffix': '_12_195_3_3', 'total_type': 'plant total', 'years': range(2018,2019)}, # pudl id 343\n",
    "\n",
    "    {'id_suffix': '_12_57_5_1', 'total_type': 'utility owned total', 'years': range(1994,1995)}, # pudl id 661  # was plant total  # doesn't add up\n",
    "    {'id_suffix': '_12_57_4_1', 'total_type': 'utility owned total', 'years': range(1995,1998)}, # pudl id 661  # skips a year\n",
    "    {'id_suffix': '_12_57_4_1', 'total_type': 'utility owned total', 'years': range(1999,2009)}, # pudl id 661\n",
    "\n",
    "    {'id_suffix': '_12_57_5_3', 'total_type': 'utiltiy owned total', 'years': range(1994,1995)}, # pudl id 257  # was plant total\n",
    "    {'id_suffix': '_12_57_5_1', 'total_type': 'utility owned total', 'years': range(1995,2009)}, # pudl id 257  # doesn't add up\n",
    "\n",
    "    {'id_suffix': '_12_193_9_4', 'total_type': 'utility owned total', 'years': range(1995,1996)}, # pudl id 443\n",
    "\n",
    "    {'id_suffix': '_12_281_0_2', 'total_type': 'utility owned total', 'years': range(2002,2007)}, # pudl id 1110  # was plant total and maybe is\n",
    "\n",
    "    {'id_suffix': '_12_89_2_5', 'total_type': 'utility owned total', 'years': range(2011,2019)},\n",
    "    {'id_suffix': '_12_89_1_2', 'total_type': 'utility owned total', 'years': range(2019,2020)},\n",
    "]\n",
    "\n",
    "# pudl id 336 unclear which is the total\n",
    "# pudl id 652 is fishy and kind of seems like a duplicate?\n",
    "# pudl id 40 needs some attention....\n",
    "# pudl id 410 unsure role of cge\n",
    "# pudl id 167 unsure role of cge\n",
    "# pudl id 316 unsure role of cge\n",
    "# pudl id 611 unsure role of cge\n",
    "# pudl id 470 in 2008 two totals?\n",
    "# pudl id 363 gets confusing around 2008 \n",
    "# pudl id 281 unt 2 in year 1999 might get double counted\n",
    "# pudl id 1209 components don't add up\n",
    "# pudl id 503 pulliam-common? with capcity 0 and in ~2004 pulliam 31 shows up\n",
    "# pudl id 473 has \"communal\" row as well and in ~1997 w31, w32\n",
    "# pudl id 661 is confusing which values are which\n",
    "# pudl id 529 doesn't add up\n",
    "# pudl id 610 confused by what this 100% ownership thing is...\n",
    "# pudl id 90 confusing\n",
    "# pudl id 183 confusing total value in 2011"
   ]
  },
  {
   "cell_type": "code",
   "execution_count": 138,
   "id": "approximate-foundation",
   "metadata": {},
   "outputs": [],
   "source": [
    "# Create copy of the steam table with fuel types merged in\n",
    "steam_test = ferc_eia_fuel.copy()\n",
    "\n",
    "flagged_steam = (\n",
    "    steam_test\n",
    "    .pipe(flag_totals)\n",
    "    .pipe(backfill_years_by_capacity, col_name='total', replace=False, replace_with=True)\n",
    "    .pipe(flag_plant_totals, col_name='total_type')\n",
    "    .pipe(backfill_years_by_capacity, col_name='total_type', replace=None, replace_with='plant total')\n",
    "    .pipe(categorize_bad_rows, f_list=fix_list)\n",
    "    .drop('total', axis=1)\n",
    ")"
   ]
  },
  {
   "cell_type": "markdown",
   "id": "thousand-concrete",
   "metadata": {},
   "source": [
    "### **Step 2.5:** Triage aggregation based on presense of nulls\n",
    "Most of the time the total rows are excluded. Sometimes, however, they provide valuable information we might want to use in the aggregation of certain columns.\n",
    "\n",
    "The fields we'd like to aggregate on are: \n",
    "- capacity_mw\n",
    "- net_generation_mwh\n",
    "- avg_num_employees\n",
    "- **original cost:** capex_land, capex_equipment, capex_structures, capex_total, asset_retirement_cost\n",
    "- **operational expenses:** opex_operations, opex_fuel, opex_coolants, opex_steam, opex_steam_other, opex_transfer, opex_electric, opex_misc_power, opex_rents, opex_allowances, opex_engineering, opex_structures, opex_boiler, opex_plants, opex_misc_steam, opex_production_total."
   ]
  },
  {
   "cell_type": "code",
   "execution_count": 459,
   "id": "armed-special",
   "metadata": {
    "jupyter": {
     "source_hidden": true
    }
   },
   "outputs": [],
   "source": [
    "def col_aggregator(flag_df, agg_col):\n",
    "    \"\"\"\n",
    "    Remove total rows from aggregation; use when there are nulls present in non-total rows. \n",
    "    \n",
    "    This function looks at a table grouped by year, utility, and plant and determines whether to use any of the\n",
    "    information from the total rows in an aggregation based on the column agg_col specified as a parameter.\n",
    "    If there are no total rows, this function simply takes the sum of each group. If there are totals rows, \n",
    "    this function first looks to see if there is a utility owned total reported and then looks to see if there is\n",
    "    a plant total reported.\n",
    "    \n",
    "    If the aggregation must resort to using a total row, a flag is created and returned alongside the aggregated value.\n",
    "    These values will later get split apart and set as seperate columns (in the build_col_agg_df function).\n",
    "    \n",
    "    Args: \n",
    "        df (pandas.DataFrame): A flagged version of the cleaned ferc1_steam table with the column name 'total_type'\n",
    "            specifying wither it is a utility owned total, unit total, or plant total.\n",
    "        agg_col (str): The name of the column you'd like to aggregate by.\n",
    "    \n",
    "    \"\"\"\n",
    "    if flag_df.loc[flag_df['total_type'].isna()][agg_col].notna().all(): \n",
    "            flag = None\n",
    "            agg_value = flag_df.loc[flag_df['total_type'].isna()][agg_col].sum()\n",
    "            return [agg_value, flag]\n",
    "    else:\n",
    "        if flag_df['total_type'].str.contains('utility owned total').any() & flag_df.loc[flag_df['total_type']=='utility owned total'][agg_col].notna().all():\n",
    "            flag = 'used utility owned total'\n",
    "            agg_value = flag_df.loc[flag_df['total_type']=='utility owned total'][agg_col].unique()[0]\n",
    "            return [agg_value, flag]\n",
    "        elif flag_df['total_type'].str.contains('plant total').any() & flag_df.loc[flag_df['total_type']=='plant total'][agg_col].notna().all():\n",
    "            flag = 'used plant total pertains to more than one utility'\n",
    "            agg_value = flag_df.loc[flag_df['total_type']=='plant total'][agg_col].unique()[0]\n",
    "            return [agg_value, flag]\n",
    "        elif flag_df.loc[flag_df['total_type'].isna()][agg_col].isna().all():\n",
    "            flag = None\n",
    "            agg_value = np.nan\n",
    "            return [agg_value, flag]\n",
    "        else:\n",
    "            flag = 'aggregated with some null values'\n",
    "            agg_value = flag_df.loc[flag_df['total_type'].isna()][agg_col].sum()\n",
    "            return [agg_value, flag]"
   ]
  },
  {
   "cell_type": "code",
   "execution_count": 460,
   "id": "electrical-virtue",
   "metadata": {
    "jupyter": {
     "source_hidden": true
    }
   },
   "outputs": [],
   "source": [
    "def build_col_agg_df(flag_df, agg_col):\n",
    "    \"\"\"Sort by field level.\n",
    "    \n",
    "    This function creates a mini aggregated dataframe based on a column specified in the parameters. \n",
    "    It runs the col_aggregator function so that the aggregations exclude total values unless there are\n",
    "    gaps in the subcomponents--in which case it will first try and use a reported utility total and \n",
    "    then a plant total. The col_aggregator function returns both the aggregated value and flag to\n",
    "    indicate whether it was aggregated based on a value from one of the total rows. This function turns\n",
    "    the value and the flag (returned as a list within one column) to seperate columns.\n",
    "    \n",
    "    These column-based data aggregations can later be merged to form one large data aggregation column.\n",
    "    \n",
    "    Args: \n",
    "        df (pandas.DataFrame): A DataFrame....\n",
    "        agg_level (str): The level of aggregation you'd like (plant or utility)\n",
    "        agg_col (str): The name of the column you'd like to aggregate by.\n",
    "    Returns:\n",
    "    \n",
    "    \"\"\"\n",
    "\n",
    "    plant_util_group = flag_df.groupby(['report_year', 'utility_id_pudl', 'plant_id_pudl'])\n",
    "    col_agg_series = plant_util_group.apply(lambda x: col_aggregator(x, agg_col))\n",
    "    col_agg_df = pd.DataFrame(col_agg_series).reset_index()\n",
    "    col_agg_df[[agg_col, f'{agg_col}_flag']] = pd.DataFrame(col_agg_df[0].tolist(), index=col_agg_df.index)\n",
    "    col_agg_df = col_agg_df.drop(columns=[0])\n",
    "    \n",
    "    return col_agg_df"
   ]
  },
  {
   "cell_type": "code",
   "execution_count": 480,
   "id": "under-typing",
   "metadata": {
    "jupyter": {
     "source_hidden": true
    }
   },
   "outputs": [
    {
     "data": {
      "text/html": [
       "<div>\n",
       "<style scoped>\n",
       "    .dataframe tbody tr th:only-of-type {\n",
       "        vertical-align: middle;\n",
       "    }\n",
       "\n",
       "    .dataframe tbody tr th {\n",
       "        vertical-align: top;\n",
       "    }\n",
       "\n",
       "    .dataframe thead th {\n",
       "        text-align: right;\n",
       "    }\n",
       "</style>\n",
       "<table border=\"1\" class=\"dataframe\">\n",
       "  <thead>\n",
       "    <tr style=\"text-align: right;\">\n",
       "      <th></th>\n",
       "      <th>report_year</th>\n",
       "      <th>utility_id_pudl</th>\n",
       "      <th>plant_id_pudl</th>\n",
       "      <th>capacity_mw</th>\n",
       "      <th>capacity_mw_flag</th>\n",
       "    </tr>\n",
       "  </thead>\n",
       "  <tbody>\n",
       "    <tr>\n",
       "      <th>0</th>\n",
       "      <td>1994</td>\n",
       "      <td>363</td>\n",
       "      <td>171</td>\n",
       "      <td>95.00</td>\n",
       "      <td>None</td>\n",
       "    </tr>\n",
       "    <tr>\n",
       "      <th>1</th>\n",
       "      <td>1994</td>\n",
       "      <td>364</td>\n",
       "      <td>171</td>\n",
       "      <td>576.00</td>\n",
       "      <td>None</td>\n",
       "    </tr>\n",
       "    <tr>\n",
       "      <th>2</th>\n",
       "      <td>1994</td>\n",
       "      <td>365</td>\n",
       "      <td>171</td>\n",
       "      <td>104.94</td>\n",
       "      <td>None</td>\n",
       "    </tr>\n",
       "    <tr>\n",
       "      <th>3</th>\n",
       "      <td>1995</td>\n",
       "      <td>363</td>\n",
       "      <td>171</td>\n",
       "      <td>98.00</td>\n",
       "      <td>None</td>\n",
       "    </tr>\n",
       "    <tr>\n",
       "      <th>4</th>\n",
       "      <td>1995</td>\n",
       "      <td>364</td>\n",
       "      <td>171</td>\n",
       "      <td>570.00</td>\n",
       "      <td>None</td>\n",
       "    </tr>\n",
       "    <tr>\n",
       "      <th>5</th>\n",
       "      <td>1995</td>\n",
       "      <td>365</td>\n",
       "      <td>171</td>\n",
       "      <td>104.94</td>\n",
       "      <td>None</td>\n",
       "    </tr>\n",
       "  </tbody>\n",
       "</table>\n",
       "</div>"
      ],
      "text/plain": [
       "   report_year  utility_id_pudl  plant_id_pudl  capacity_mw capacity_mw_flag\n",
       "0         1994              363            171        95.00             None\n",
       "1         1994              364            171       576.00             None\n",
       "2         1994              365            171       104.94             None\n",
       "3         1995              363            171        98.00             None\n",
       "4         1995              364            171       570.00             None\n",
       "5         1995              365            171       104.94             None"
      ]
     },
     "execution_count": 480,
     "metadata": {},
     "output_type": "execute_result"
    }
   ],
   "source": [
    "# SMALL SCALE AGGREGATOR TEST\n",
    "\n",
    "test = fixed_flags[fixed_flags['plant_id_pudl']==171]\n",
    "#test = test[['report_year', 'utility_id_pudl', 'utility_name_ferc1', 'plant_id_pudl', 'plant_name_ferc1', 'capacity_mw', 'plant_type', 'total', 'total_type', 'record_id']]\n",
    "# test = test[['report_year', 'utility_name_ferc1', 'utility_id_pudl', 'plant_id_pudl', 'plant_name_ferc1', 'plant_type', \n",
    "#              'total_type', 'capacity_mw', 'net_generation_mwh', 'avg_num_employees', 'capex_total', \n",
    "#              'capex_land', 'capex_equipment', 'capex_structures', 'asset_retirement_cost', 'opex_operations',\n",
    "#              'opex_fuel', 'opex_coolants', 'opex_steam', 'opex_steam_other', 'opex_transfer', 'opex_electric',\n",
    "#              'opex_misc_power', 'opex_rents', 'opex_allowances', 'opex_engineering', 'opex_structures', \n",
    "#              'opex_boiler', 'opex_plants', 'opex_misc_steam', 'opex_production_total']]\n",
    "test2 = test[['report_year', 'utility_name_ferc1', 'utility_id_pudl', 'plant_id_pudl', 'plant_name_ferc1', 'plant_type', 'capacity_mw',\n",
    "              'total_type', 'avg_num_employees', 'capex_total', 'opex_production_total']]\n",
    "df = test2[(test2['report_year'] < 1996)]\n",
    "build_col_agg_df(df, 'capacity_mw')"
   ]
  },
  {
   "cell_type": "code",
   "execution_count": null,
   "id": "skilled-interstate",
   "metadata": {},
   "outputs": [],
   "source": [
    "build_col_agg_df(flagged_df, 'capacity_mw')"
   ]
  },
  {
   "cell_type": "markdown",
   "id": "finite-joint",
   "metadata": {},
   "source": [
    "#### Things to do still: \n",
    "- if use a value from plant total make it apply to the other utilities that also have a stake in that plant (avg_num_employees is a good example)\n",
    "- add another flag to check the subcomponent sum against reported utility owned totals (if there is one)\n",
    "- if there is a value within 1 of a labeled value in the same plant group, it's probably a total"
   ]
  },
  {
   "cell_type": "code",
   "execution_count": 856,
   "id": "comparative-aurora",
   "metadata": {},
   "outputs": [],
   "source": [
    "###### list of plant ids with total values\n",
    "#list(steam2[steam2['total']==True]['plant_id_pudl'].unique())"
   ]
  },
  {
   "cell_type": "code",
   "execution_count": null,
   "id": "trained-energy",
   "metadata": {},
   "outputs": [],
   "source": [
    "##############"
   ]
  },
  {
   "cell_type": "code",
   "execution_count": 919,
   "id": "possible-transsexual",
   "metadata": {},
   "outputs": [],
   "source": [
    "# read in Jon's CSV\n",
    "jon_df = pd.read_csv('/Users/aesharpe/Desktop/Work/Catalyst_Coop/RMI/Depreciation/f1_steam_flagged_with_plant_id.csv')"
   ]
  },
  {
   "cell_type": "code",
   "execution_count": 920,
   "id": "average-boating",
   "metadata": {},
   "outputs": [],
   "source": [
    "jon_df = jon_df[['Flag', 'plant_name', 'report_year', 'plant_id_ferc1']]\n",
    "jon_df['plant_name'] = jon_df.plant_name.str.lower()"
   ]
  },
  {
   "cell_type": "code",
   "execution_count": 921,
   "id": "familiar-underwear",
   "metadata": {},
   "outputs": [],
   "source": [
    "steam3 = steam2[['report_year', 'utility_id_ferc1', 'utility_id_pudl', 'utility_name_ferc1',\n",
    "                 'plant_id_pudl', 'plant_id_ferc1', 'plant_name_ferc1', 'avg_num_employees', \n",
    "                 'capacity_mw', 'net_generation_mwh', 'opex_production_total', 'capex_total',\n",
    "                 'primary_fuel_by_mmbtu', 'primary_fuel_by_cost', 'fuel_type_code_pudl_net_gen', 'total']]"
   ]
  },
  {
   "cell_type": "code",
   "execution_count": 929,
   "id": "circular-lawsuit",
   "metadata": {},
   "outputs": [
    {
     "name": "stderr",
     "output_type": "stream",
     "text": [
      "<ipython-input-929-0856b3bad11e>:2: SettingWithCopyWarning: \n",
      "A value is trying to be set on a copy of a slice from a DataFrame.\n",
      "Try using .loc[row_indexer,col_indexer] = value instead\n",
      "\n",
      "See the caveats in the documentation: https://pandas.pydata.org/pandas-docs/stable/user_guide/indexing.html#returning-a-view-versus-a-copy\n",
      "  steam3['rec'] = steam3.report_year.map(str) + '-' + steam3.plant_name_ferc1.map(str)\n"
     ]
    }
   ],
   "source": [
    "jon_df['rec'] = jon_df.report_year.map(str) + '-' + jon_df.plant_name.map(str)\n",
    "steam3['rec'] = steam3.report_year.map(str) + '-' + steam3.plant_name_ferc1.map(str)"
   ]
  },
  {
   "cell_type": "code",
   "execution_count": 930,
   "id": "steady-program",
   "metadata": {},
   "outputs": [
    {
     "data": {
      "text/plain": [
       "38354"
      ]
     },
     "execution_count": 930,
     "metadata": {},
     "output_type": "execute_result"
    }
   ],
   "source": [
    "dd = pd.merge(jon_df, steam3, on='rec', how='inner')\n",
    "len(dd)"
   ]
  },
  {
   "cell_type": "code",
   "execution_count": 931,
   "id": "latest-anthropology",
   "metadata": {},
   "outputs": [],
   "source": [
    "dd['dup'] = dd['rec'].duplicated()"
   ]
  },
  {
   "cell_type": "code",
   "execution_count": 932,
   "id": "independent-tattoo",
   "metadata": {},
   "outputs": [],
   "source": [
    "dups = dd[dd['dup']==True]\n",
    "dup_recs = list(dups['rec'].unique())"
   ]
  },
  {
   "cell_type": "code",
   "execution_count": 933,
   "id": "reserved-moment",
   "metadata": {},
   "outputs": [
    {
     "name": "stderr",
     "output_type": "stream",
     "text": [
      "/Users/aesharpe/miniconda3/envs/pudl-dev/lib/python3.8/site-packages/pandas/core/strings/accessor.py:101: UserWarning: This pattern has match groups. To actually get the groups, use str.extract.\n",
      "  return func(self, *args, **kwargs)\n"
     ]
    }
   ],
   "source": [
    "tt = dd[dd['rec'].str.contains('|'.join(dup_recs))]"
   ]
  },
  {
   "cell_type": "code",
   "execution_count": 944,
   "id": "radical-ballot",
   "metadata": {},
   "outputs": [
    {
     "data": {
      "text/html": [
       "<div>\n",
       "<style scoped>\n",
       "    .dataframe tbody tr th:only-of-type {\n",
       "        vertical-align: middle;\n",
       "    }\n",
       "\n",
       "    .dataframe tbody tr th {\n",
       "        vertical-align: top;\n",
       "    }\n",
       "\n",
       "    .dataframe thead th {\n",
       "        text-align: right;\n",
       "    }\n",
       "</style>\n",
       "<table border=\"1\" class=\"dataframe\">\n",
       "  <thead>\n",
       "    <tr style=\"text-align: right;\">\n",
       "      <th></th>\n",
       "      <th>plant_id_pudl</th>\n",
       "      <th>report_year_x</th>\n",
       "    </tr>\n",
       "  </thead>\n",
       "  <tbody>\n",
       "    <tr>\n",
       "      <th>31</th>\n",
       "      <td>582</td>\n",
       "      <td>1994</td>\n",
       "    </tr>\n",
       "    <tr>\n",
       "      <th>94</th>\n",
       "      <td>316</td>\n",
       "      <td>1994</td>\n",
       "    </tr>\n",
       "    <tr>\n",
       "      <th>101</th>\n",
       "      <td>167</td>\n",
       "      <td>1994</td>\n",
       "    </tr>\n",
       "    <tr>\n",
       "      <th>177</th>\n",
       "      <td>599</td>\n",
       "      <td>1994</td>\n",
       "    </tr>\n",
       "    <tr>\n",
       "      <th>223</th>\n",
       "      <td>295</td>\n",
       "      <td>1994</td>\n",
       "    </tr>\n",
       "    <tr>\n",
       "      <th>...</th>\n",
       "      <td>...</td>\n",
       "      <td>...</td>\n",
       "    </tr>\n",
       "    <tr>\n",
       "      <th>37404</th>\n",
       "      <td>65</td>\n",
       "      <td>2019</td>\n",
       "    </tr>\n",
       "    <tr>\n",
       "      <th>37633</th>\n",
       "      <td>357</td>\n",
       "      <td>2019</td>\n",
       "    </tr>\n",
       "    <tr>\n",
       "      <th>37686</th>\n",
       "      <td>278</td>\n",
       "      <td>2019</td>\n",
       "    </tr>\n",
       "    <tr>\n",
       "      <th>37769</th>\n",
       "      <td>8470</td>\n",
       "      <td>2019</td>\n",
       "    </tr>\n",
       "    <tr>\n",
       "      <th>38232</th>\n",
       "      <td>12752</td>\n",
       "      <td>2019</td>\n",
       "    </tr>\n",
       "  </tbody>\n",
       "</table>\n",
       "<p>320 rows × 2 columns</p>\n",
       "</div>"
      ],
      "text/plain": [
       "       plant_id_pudl  report_year_x\n",
       "31               582           1994\n",
       "94               316           1994\n",
       "101              167           1994\n",
       "177              599           1994\n",
       "223              295           1994\n",
       "...              ...            ...\n",
       "37404             65           2019\n",
       "37633            357           2019\n",
       "37686            278           2019\n",
       "37769           8470           2019\n",
       "38232          12752           2019\n",
       "\n",
       "[320 rows x 2 columns]"
      ]
     },
     "execution_count": 944,
     "metadata": {},
     "output_type": "execute_result"
    }
   ],
   "source": [
    "test = tt[(tt['Flag'].notna()) & (tt['total']==False)]\n",
    "test[['plant_id_pudl', 'report_year_x']].drop_duplicates()"
   ]
  },
  {
   "cell_type": "code",
   "execution_count": 880,
   "id": "independent-archives",
   "metadata": {},
   "outputs": [
    {
     "data": {
      "text/html": [
       "<div>\n",
       "<style scoped>\n",
       "    .dataframe tbody tr th:only-of-type {\n",
       "        vertical-align: middle;\n",
       "    }\n",
       "\n",
       "    .dataframe tbody tr th {\n",
       "        vertical-align: top;\n",
       "    }\n",
       "\n",
       "    .dataframe thead th {\n",
       "        text-align: right;\n",
       "    }\n",
       "</style>\n",
       "<table border=\"1\" class=\"dataframe\">\n",
       "  <thead>\n",
       "    <tr style=\"text-align: right;\">\n",
       "      <th></th>\n",
       "      <th>Flag</th>\n",
       "      <th>plant_name</th>\n",
       "      <th>report_year</th>\n",
       "      <th>rec</th>\n",
       "    </tr>\n",
       "  </thead>\n",
       "  <tbody>\n",
       "    <tr>\n",
       "      <th>2</th>\n",
       "      <td>x</td>\n",
       "      <td>sterling</td>\n",
       "      <td>1994</td>\n",
       "      <td>1994-sterling</td>\n",
       "    </tr>\n",
       "    <tr>\n",
       "      <th>3</th>\n",
       "      <td>x</td>\n",
       "      <td>grand tower</td>\n",
       "      <td>1994</td>\n",
       "      <td>1994-grand tower</td>\n",
       "    </tr>\n",
       "    <tr>\n",
       "      <th>10</th>\n",
       "      <td>d</td>\n",
       "      <td>laredo</td>\n",
       "      <td>1994</td>\n",
       "      <td>1994-laredo</td>\n",
       "    </tr>\n",
       "    <tr>\n",
       "      <th>11</th>\n",
       "      <td>k</td>\n",
       "      <td>lon c. hill</td>\n",
       "      <td>1994</td>\n",
       "      <td>1994-lon c. hill</td>\n",
       "    </tr>\n",
       "    <tr>\n",
       "      <th>12</th>\n",
       "      <td>d</td>\n",
       "      <td>victoria</td>\n",
       "      <td>1994</td>\n",
       "      <td>1994-victoria</td>\n",
       "    </tr>\n",
       "    <tr>\n",
       "      <th>...</th>\n",
       "      <td>...</td>\n",
       "      <td>...</td>\n",
       "      <td>...</td>\n",
       "      <td>...</td>\n",
       "    </tr>\n",
       "    <tr>\n",
       "      <th>28932</th>\n",
       "      <td>d</td>\n",
       "      <td>columbia 2</td>\n",
       "      <td>2019</td>\n",
       "      <td>2019-columbia 2</td>\n",
       "    </tr>\n",
       "    <tr>\n",
       "      <th>28933</th>\n",
       "      <td>k</td>\n",
       "      <td>columbia total</td>\n",
       "      <td>2019</td>\n",
       "      <td>2019-columbia total</td>\n",
       "    </tr>\n",
       "    <tr>\n",
       "      <th>28934</th>\n",
       "      <td>d</td>\n",
       "      <td>elm road 1</td>\n",
       "      <td>2019</td>\n",
       "      <td>2019-elm road 1</td>\n",
       "    </tr>\n",
       "    <tr>\n",
       "      <th>28935</th>\n",
       "      <td>d</td>\n",
       "      <td>elm road 2</td>\n",
       "      <td>2019</td>\n",
       "      <td>2019-elm road 2</td>\n",
       "    </tr>\n",
       "    <tr>\n",
       "      <th>28936</th>\n",
       "      <td>k</td>\n",
       "      <td>elm road total</td>\n",
       "      <td>2019</td>\n",
       "      <td>2019-elm road total</td>\n",
       "    </tr>\n",
       "  </tbody>\n",
       "</table>\n",
       "<p>2720 rows × 4 columns</p>\n",
       "</div>"
      ],
      "text/plain": [
       "      Flag      plant_name  report_year                  rec\n",
       "2        x        sterling         1994        1994-sterling\n",
       "3        x     grand tower         1994     1994-grand tower\n",
       "10       d          laredo         1994          1994-laredo\n",
       "11       k     lon c. hill         1994     1994-lon c. hill\n",
       "12       d        victoria         1994        1994-victoria\n",
       "...    ...             ...          ...                  ...\n",
       "28932    d      columbia 2         2019      2019-columbia 2\n",
       "28933    k  columbia total         2019  2019-columbia total\n",
       "28934    d      elm road 1         2019      2019-elm road 1\n",
       "28935    d      elm road 2         2019      2019-elm road 2\n",
       "28936    k  elm road total         2019  2019-elm road total\n",
       "\n",
       "[2720 rows x 4 columns]"
      ]
     },
     "execution_count": 880,
     "metadata": {},
     "output_type": "execute_result"
    }
   ],
   "source": [
    "flags = jon_df[jon_df['Flag'].notna()]\n",
    "flags"
   ]
  },
  {
   "cell_type": "code",
   "execution_count": 882,
   "id": "innovative-spirit",
   "metadata": {},
   "outputs": [],
   "source": [
    "#steam3[steam3['total']==True]"
   ]
  },
  {
   "cell_type": "code",
   "execution_count": null,
   "id": "proud-support",
   "metadata": {},
   "outputs": [],
   "source": []
  }
 ],
 "metadata": {
  "kernelspec": {
   "display_name": "Python 3",
   "language": "python",
   "name": "python3"
  },
  "language_info": {
   "codemirror_mode": {
    "name": "ipython",
    "version": 3
   },
   "file_extension": ".py",
   "mimetype": "text/x-python",
   "name": "python",
   "nbconvert_exporter": "python",
   "pygments_lexer": "ipython3",
   "version": "3.8.6"
  }
 },
 "nbformat": 4,
 "nbformat_minor": 5
}
